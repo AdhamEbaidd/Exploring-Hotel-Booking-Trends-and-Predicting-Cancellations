{
  "nbformat": 4,
  "nbformat_minor": 0,
  "metadata": {
    "colab": {
      "provenance": [],
      "collapsed_sections": [
        "QsNC9EGP3gSo",
        "azo4RhAr3c0a",
        "_-b4ZUSj3ZLt",
        "dyC7XBeHPZgL",
        "9NMz_RiBEDgB",
        "migmfkqGFNnJ",
        "xEJ0rrubAoPw"
      ],
      "authorship_tag": "ABX9TyNheMcNvGzax0u5KoDAlZzf",
      "include_colab_link": true
    },
    "kernelspec": {
      "name": "python3",
      "display_name": "Python 3"
    },
    "language_info": {
      "name": "python"
    }
  },
  "cells": [
    {
      "cell_type": "markdown",
      "metadata": {
        "id": "view-in-github",
        "colab_type": "text"
      },
      "source": [
        "<a href=\"https://colab.research.google.com/github/AdhamEbaidd/Exploring-Hotel-Booking-Trends-and-Predicting-Cancellations/blob/main/HotelBookings.ipynb\" target=\"_parent\"><img src=\"https://colab.research.google.com/assets/colab-badge.svg\" alt=\"Open In Colab\"/></a>"
      ]
    },
    {
      "cell_type": "markdown",
      "source": [
        "#importing libraries and dataset"
      ],
      "metadata": {
        "id": "QsNC9EGP3gSo"
      }
    },
    {
      "cell_type": "code",
      "execution_count": 1,
      "metadata": {
        "id": "Q2XUVS-uJV4Z"
      },
      "outputs": [],
      "source": [
        "import pandas as pd\n",
        "import sqlite3\n",
        "import seaborn as sns\n",
        "import matplotlib.pyplot as plt\n",
        "import numpy as np\n",
        "from sklearn.ensemble import RandomForestClassifier\n",
        "from sklearn.metrics import confusion_matrix,accuracy_score\n",
        "from sklearn.compose import ColumnTransformer\n",
        "from sklearn.preprocessing import OneHotEncoder\n",
        "from sklearn.model_selection import train_test_split\n",
        "from sklearn.preprocessing import LabelEncoder\n",
        "from sklearn.preprocessing import StandardScaler\n",
        "from sklearn.model_selection import cross_val_score\n",
        "from sklearn.linear_model import LogisticRegression\n",
        "from sklearn.naive_bayes import GaussianNB\n",
        "from sklearn.neighbors import KNeighborsClassifier\n",
        "from sklearn.tree import DecisionTreeClassifier\n",
        "from xgboost import XGBClassifier\n",
        "from keras.models import Sequential\n",
        "from keras.layers import Dense\n",
        "import matplotlib.animation as animation"
      ]
    },
    {
      "cell_type": "code",
      "source": [
        "df = pd.read_csv(\"egphotelbookings.csv\")\n",
        "df.describe()"
      ],
      "metadata": {
        "colab": {
          "base_uri": "https://localhost:8080/",
          "height": 350
        },
        "id": "5-kW7Ad6Ji3c",
        "outputId": "c43033c2-898b-4923-ccf7-4e9268fae7f2"
      },
      "execution_count": 2,
      "outputs": [
        {
          "output_type": "execute_result",
          "data": {
            "text/plain": [
              "          Unnamed: 0    is_canceled      lead_time  arrival_date_year  \\\n",
              "count  119390.000000  119390.000000  119390.000000      119390.000000   \n",
              "mean    59694.500000       0.370416     104.011416        2018.134182   \n",
              "std     34465.068657       0.482918     106.863097           0.893177   \n",
              "min         0.000000       0.000000       0.000000        2017.000000   \n",
              "25%     29847.250000       0.000000      18.000000        2017.000000   \n",
              "50%     59694.500000       0.000000      69.000000        2018.000000   \n",
              "75%     89541.750000       1.000000     160.000000        2019.000000   \n",
              "max    119389.000000       1.000000     737.000000        2019.000000   \n",
              "\n",
              "       arrival_date_week_number  arrival_date_day_of_month  \\\n",
              "count             119390.000000              119390.000000   \n",
              "mean                  27.165173                  15.798241   \n",
              "std                   13.605138                   8.780829   \n",
              "min                    1.000000                   1.000000   \n",
              "25%                   16.000000                   8.000000   \n",
              "50%                   28.000000                  16.000000   \n",
              "75%                   38.000000                  23.000000   \n",
              "max                   53.000000                  31.000000   \n",
              "\n",
              "       stays_in_weekend_nights  stays_in_week_nights         adults  \\\n",
              "count            119390.000000         119390.000000  119390.000000   \n",
              "mean                  0.927599              2.500302       1.856403   \n",
              "std                   0.998613              1.908286       0.579261   \n",
              "min                   0.000000              0.000000       0.000000   \n",
              "25%                   0.000000              1.000000       2.000000   \n",
              "50%                   1.000000              2.000000       2.000000   \n",
              "75%                   2.000000              3.000000       2.000000   \n",
              "max                  19.000000             50.000000      55.000000   \n",
              "\n",
              "            children  ...  is_repeated_guest  previous_cancellations  \\\n",
              "count  119386.000000  ...      119390.000000           119390.000000   \n",
              "mean        0.103890  ...           0.031912                0.087118   \n",
              "std         0.398561  ...           0.175767                0.844336   \n",
              "min         0.000000  ...           0.000000                0.000000   \n",
              "25%         0.000000  ...           0.000000                0.000000   \n",
              "50%         0.000000  ...           0.000000                0.000000   \n",
              "75%         0.000000  ...           0.000000                0.000000   \n",
              "max        10.000000  ...           1.000000               26.000000   \n",
              "\n",
              "       previous_bookings_not_canceled  booking_changes          agent  \\\n",
              "count                   119390.000000    119390.000000  103050.000000   \n",
              "mean                         0.137097         0.221124      86.693382   \n",
              "std                          1.497437         0.652306     110.774548   \n",
              "min                          0.000000         0.000000       1.000000   \n",
              "25%                          0.000000         0.000000       9.000000   \n",
              "50%                          0.000000         0.000000      14.000000   \n",
              "75%                          0.000000         0.000000     229.000000   \n",
              "max                         72.000000        21.000000     535.000000   \n",
              "\n",
              "           company  days_in_waiting_list            adr  \\\n",
              "count  6797.000000         119390.000000  119390.000000   \n",
              "mean    189.266735              2.321149     101.831122   \n",
              "std     131.655015             17.594721      50.535790   \n",
              "min       6.000000              0.000000      -6.380000   \n",
              "25%      62.000000              0.000000      69.290000   \n",
              "50%     179.000000              0.000000      94.575000   \n",
              "75%     270.000000              0.000000     126.000000   \n",
              "max     543.000000            391.000000    5400.000000   \n",
              "\n",
              "       required_car_parking_spaces  total_of_special_requests  \n",
              "count                119390.000000              119390.000000  \n",
              "mean                      0.062518                   0.571363  \n",
              "std                       0.245291                   0.792798  \n",
              "min                       0.000000                   0.000000  \n",
              "25%                       0.000000                   0.000000  \n",
              "50%                       0.000000                   0.000000  \n",
              "75%                       0.000000                   1.000000  \n",
              "max                       8.000000                   5.000000  \n",
              "\n",
              "[8 rows x 21 columns]"
            ],
            "text/html": [
              "\n",
              "  <div id=\"df-5d23bc33-7525-4c77-8d36-d5c5b69e42a8\" class=\"colab-df-container\">\n",
              "    <div>\n",
              "<style scoped>\n",
              "    .dataframe tbody tr th:only-of-type {\n",
              "        vertical-align: middle;\n",
              "    }\n",
              "\n",
              "    .dataframe tbody tr th {\n",
              "        vertical-align: top;\n",
              "    }\n",
              "\n",
              "    .dataframe thead th {\n",
              "        text-align: right;\n",
              "    }\n",
              "</style>\n",
              "<table border=\"1\" class=\"dataframe\">\n",
              "  <thead>\n",
              "    <tr style=\"text-align: right;\">\n",
              "      <th></th>\n",
              "      <th>Unnamed: 0</th>\n",
              "      <th>is_canceled</th>\n",
              "      <th>lead_time</th>\n",
              "      <th>arrival_date_year</th>\n",
              "      <th>arrival_date_week_number</th>\n",
              "      <th>arrival_date_day_of_month</th>\n",
              "      <th>stays_in_weekend_nights</th>\n",
              "      <th>stays_in_week_nights</th>\n",
              "      <th>adults</th>\n",
              "      <th>children</th>\n",
              "      <th>...</th>\n",
              "      <th>is_repeated_guest</th>\n",
              "      <th>previous_cancellations</th>\n",
              "      <th>previous_bookings_not_canceled</th>\n",
              "      <th>booking_changes</th>\n",
              "      <th>agent</th>\n",
              "      <th>company</th>\n",
              "      <th>days_in_waiting_list</th>\n",
              "      <th>adr</th>\n",
              "      <th>required_car_parking_spaces</th>\n",
              "      <th>total_of_special_requests</th>\n",
              "    </tr>\n",
              "  </thead>\n",
              "  <tbody>\n",
              "    <tr>\n",
              "      <th>count</th>\n",
              "      <td>119390.000000</td>\n",
              "      <td>119390.000000</td>\n",
              "      <td>119390.000000</td>\n",
              "      <td>119390.000000</td>\n",
              "      <td>119390.000000</td>\n",
              "      <td>119390.000000</td>\n",
              "      <td>119390.000000</td>\n",
              "      <td>119390.000000</td>\n",
              "      <td>119390.000000</td>\n",
              "      <td>119386.000000</td>\n",
              "      <td>...</td>\n",
              "      <td>119390.000000</td>\n",
              "      <td>119390.000000</td>\n",
              "      <td>119390.000000</td>\n",
              "      <td>119390.000000</td>\n",
              "      <td>103050.000000</td>\n",
              "      <td>6797.000000</td>\n",
              "      <td>119390.000000</td>\n",
              "      <td>119390.000000</td>\n",
              "      <td>119390.000000</td>\n",
              "      <td>119390.000000</td>\n",
              "    </tr>\n",
              "    <tr>\n",
              "      <th>mean</th>\n",
              "      <td>59694.500000</td>\n",
              "      <td>0.370416</td>\n",
              "      <td>104.011416</td>\n",
              "      <td>2018.134182</td>\n",
              "      <td>27.165173</td>\n",
              "      <td>15.798241</td>\n",
              "      <td>0.927599</td>\n",
              "      <td>2.500302</td>\n",
              "      <td>1.856403</td>\n",
              "      <td>0.103890</td>\n",
              "      <td>...</td>\n",
              "      <td>0.031912</td>\n",
              "      <td>0.087118</td>\n",
              "      <td>0.137097</td>\n",
              "      <td>0.221124</td>\n",
              "      <td>86.693382</td>\n",
              "      <td>189.266735</td>\n",
              "      <td>2.321149</td>\n",
              "      <td>101.831122</td>\n",
              "      <td>0.062518</td>\n",
              "      <td>0.571363</td>\n",
              "    </tr>\n",
              "    <tr>\n",
              "      <th>std</th>\n",
              "      <td>34465.068657</td>\n",
              "      <td>0.482918</td>\n",
              "      <td>106.863097</td>\n",
              "      <td>0.893177</td>\n",
              "      <td>13.605138</td>\n",
              "      <td>8.780829</td>\n",
              "      <td>0.998613</td>\n",
              "      <td>1.908286</td>\n",
              "      <td>0.579261</td>\n",
              "      <td>0.398561</td>\n",
              "      <td>...</td>\n",
              "      <td>0.175767</td>\n",
              "      <td>0.844336</td>\n",
              "      <td>1.497437</td>\n",
              "      <td>0.652306</td>\n",
              "      <td>110.774548</td>\n",
              "      <td>131.655015</td>\n",
              "      <td>17.594721</td>\n",
              "      <td>50.535790</td>\n",
              "      <td>0.245291</td>\n",
              "      <td>0.792798</td>\n",
              "    </tr>\n",
              "    <tr>\n",
              "      <th>min</th>\n",
              "      <td>0.000000</td>\n",
              "      <td>0.000000</td>\n",
              "      <td>0.000000</td>\n",
              "      <td>2017.000000</td>\n",
              "      <td>1.000000</td>\n",
              "      <td>1.000000</td>\n",
              "      <td>0.000000</td>\n",
              "      <td>0.000000</td>\n",
              "      <td>0.000000</td>\n",
              "      <td>0.000000</td>\n",
              "      <td>...</td>\n",
              "      <td>0.000000</td>\n",
              "      <td>0.000000</td>\n",
              "      <td>0.000000</td>\n",
              "      <td>0.000000</td>\n",
              "      <td>1.000000</td>\n",
              "      <td>6.000000</td>\n",
              "      <td>0.000000</td>\n",
              "      <td>-6.380000</td>\n",
              "      <td>0.000000</td>\n",
              "      <td>0.000000</td>\n",
              "    </tr>\n",
              "    <tr>\n",
              "      <th>25%</th>\n",
              "      <td>29847.250000</td>\n",
              "      <td>0.000000</td>\n",
              "      <td>18.000000</td>\n",
              "      <td>2017.000000</td>\n",
              "      <td>16.000000</td>\n",
              "      <td>8.000000</td>\n",
              "      <td>0.000000</td>\n",
              "      <td>1.000000</td>\n",
              "      <td>2.000000</td>\n",
              "      <td>0.000000</td>\n",
              "      <td>...</td>\n",
              "      <td>0.000000</td>\n",
              "      <td>0.000000</td>\n",
              "      <td>0.000000</td>\n",
              "      <td>0.000000</td>\n",
              "      <td>9.000000</td>\n",
              "      <td>62.000000</td>\n",
              "      <td>0.000000</td>\n",
              "      <td>69.290000</td>\n",
              "      <td>0.000000</td>\n",
              "      <td>0.000000</td>\n",
              "    </tr>\n",
              "    <tr>\n",
              "      <th>50%</th>\n",
              "      <td>59694.500000</td>\n",
              "      <td>0.000000</td>\n",
              "      <td>69.000000</td>\n",
              "      <td>2018.000000</td>\n",
              "      <td>28.000000</td>\n",
              "      <td>16.000000</td>\n",
              "      <td>1.000000</td>\n",
              "      <td>2.000000</td>\n",
              "      <td>2.000000</td>\n",
              "      <td>0.000000</td>\n",
              "      <td>...</td>\n",
              "      <td>0.000000</td>\n",
              "      <td>0.000000</td>\n",
              "      <td>0.000000</td>\n",
              "      <td>0.000000</td>\n",
              "      <td>14.000000</td>\n",
              "      <td>179.000000</td>\n",
              "      <td>0.000000</td>\n",
              "      <td>94.575000</td>\n",
              "      <td>0.000000</td>\n",
              "      <td>0.000000</td>\n",
              "    </tr>\n",
              "    <tr>\n",
              "      <th>75%</th>\n",
              "      <td>89541.750000</td>\n",
              "      <td>1.000000</td>\n",
              "      <td>160.000000</td>\n",
              "      <td>2019.000000</td>\n",
              "      <td>38.000000</td>\n",
              "      <td>23.000000</td>\n",
              "      <td>2.000000</td>\n",
              "      <td>3.000000</td>\n",
              "      <td>2.000000</td>\n",
              "      <td>0.000000</td>\n",
              "      <td>...</td>\n",
              "      <td>0.000000</td>\n",
              "      <td>0.000000</td>\n",
              "      <td>0.000000</td>\n",
              "      <td>0.000000</td>\n",
              "      <td>229.000000</td>\n",
              "      <td>270.000000</td>\n",
              "      <td>0.000000</td>\n",
              "      <td>126.000000</td>\n",
              "      <td>0.000000</td>\n",
              "      <td>1.000000</td>\n",
              "    </tr>\n",
              "    <tr>\n",
              "      <th>max</th>\n",
              "      <td>119389.000000</td>\n",
              "      <td>1.000000</td>\n",
              "      <td>737.000000</td>\n",
              "      <td>2019.000000</td>\n",
              "      <td>53.000000</td>\n",
              "      <td>31.000000</td>\n",
              "      <td>19.000000</td>\n",
              "      <td>50.000000</td>\n",
              "      <td>55.000000</td>\n",
              "      <td>10.000000</td>\n",
              "      <td>...</td>\n",
              "      <td>1.000000</td>\n",
              "      <td>26.000000</td>\n",
              "      <td>72.000000</td>\n",
              "      <td>21.000000</td>\n",
              "      <td>535.000000</td>\n",
              "      <td>543.000000</td>\n",
              "      <td>391.000000</td>\n",
              "      <td>5400.000000</td>\n",
              "      <td>8.000000</td>\n",
              "      <td>5.000000</td>\n",
              "    </tr>\n",
              "  </tbody>\n",
              "</table>\n",
              "<p>8 rows × 21 columns</p>\n",
              "</div>\n",
              "    <div class=\"colab-df-buttons\">\n",
              "\n",
              "  <div class=\"colab-df-container\">\n",
              "    <button class=\"colab-df-convert\" onclick=\"convertToInteractive('df-5d23bc33-7525-4c77-8d36-d5c5b69e42a8')\"\n",
              "            title=\"Convert this dataframe to an interactive table.\"\n",
              "            style=\"display:none;\">\n",
              "\n",
              "  <svg xmlns=\"http://www.w3.org/2000/svg\" height=\"24px\" viewBox=\"0 -960 960 960\">\n",
              "    <path d=\"M120-120v-720h720v720H120Zm60-500h600v-160H180v160Zm220 220h160v-160H400v160Zm0 220h160v-160H400v160ZM180-400h160v-160H180v160Zm440 0h160v-160H620v160ZM180-180h160v-160H180v160Zm440 0h160v-160H620v160Z\"/>\n",
              "  </svg>\n",
              "    </button>\n",
              "\n",
              "  <style>\n",
              "    .colab-df-container {\n",
              "      display:flex;\n",
              "      gap: 12px;\n",
              "    }\n",
              "\n",
              "    .colab-df-convert {\n",
              "      background-color: #E8F0FE;\n",
              "      border: none;\n",
              "      border-radius: 50%;\n",
              "      cursor: pointer;\n",
              "      display: none;\n",
              "      fill: #1967D2;\n",
              "      height: 32px;\n",
              "      padding: 0 0 0 0;\n",
              "      width: 32px;\n",
              "    }\n",
              "\n",
              "    .colab-df-convert:hover {\n",
              "      background-color: #E2EBFA;\n",
              "      box-shadow: 0px 1px 2px rgba(60, 64, 67, 0.3), 0px 1px 3px 1px rgba(60, 64, 67, 0.15);\n",
              "      fill: #174EA6;\n",
              "    }\n",
              "\n",
              "    .colab-df-buttons div {\n",
              "      margin-bottom: 4px;\n",
              "    }\n",
              "\n",
              "    [theme=dark] .colab-df-convert {\n",
              "      background-color: #3B4455;\n",
              "      fill: #D2E3FC;\n",
              "    }\n",
              "\n",
              "    [theme=dark] .colab-df-convert:hover {\n",
              "      background-color: #434B5C;\n",
              "      box-shadow: 0px 1px 3px 1px rgba(0, 0, 0, 0.15);\n",
              "      filter: drop-shadow(0px 1px 2px rgba(0, 0, 0, 0.3));\n",
              "      fill: #FFFFFF;\n",
              "    }\n",
              "  </style>\n",
              "\n",
              "    <script>\n",
              "      const buttonEl =\n",
              "        document.querySelector('#df-5d23bc33-7525-4c77-8d36-d5c5b69e42a8 button.colab-df-convert');\n",
              "      buttonEl.style.display =\n",
              "        google.colab.kernel.accessAllowed ? 'block' : 'none';\n",
              "\n",
              "      async function convertToInteractive(key) {\n",
              "        const element = document.querySelector('#df-5d23bc33-7525-4c77-8d36-d5c5b69e42a8');\n",
              "        const dataTable =\n",
              "          await google.colab.kernel.invokeFunction('convertToInteractive',\n",
              "                                                    [key], {});\n",
              "        if (!dataTable) return;\n",
              "\n",
              "        const docLinkHtml = 'Like what you see? Visit the ' +\n",
              "          '<a target=\"_blank\" href=https://colab.research.google.com/notebooks/data_table.ipynb>data table notebook</a>'\n",
              "          + ' to learn more about interactive tables.';\n",
              "        element.innerHTML = '';\n",
              "        dataTable['output_type'] = 'display_data';\n",
              "        await google.colab.output.renderOutput(dataTable, element);\n",
              "        const docLink = document.createElement('div');\n",
              "        docLink.innerHTML = docLinkHtml;\n",
              "        element.appendChild(docLink);\n",
              "      }\n",
              "    </script>\n",
              "  </div>\n",
              "\n",
              "\n",
              "<div id=\"df-d91e865e-75f3-4f12-8f9d-9c0a757233db\">\n",
              "  <button class=\"colab-df-quickchart\" onclick=\"quickchart('df-d91e865e-75f3-4f12-8f9d-9c0a757233db')\"\n",
              "            title=\"Suggest charts\"\n",
              "            style=\"display:none;\">\n",
              "\n",
              "<svg xmlns=\"http://www.w3.org/2000/svg\" height=\"24px\"viewBox=\"0 0 24 24\"\n",
              "     width=\"24px\">\n",
              "    <g>\n",
              "        <path d=\"M19 3H5c-1.1 0-2 .9-2 2v14c0 1.1.9 2 2 2h14c1.1 0 2-.9 2-2V5c0-1.1-.9-2-2-2zM9 17H7v-7h2v7zm4 0h-2V7h2v10zm4 0h-2v-4h2v4z\"/>\n",
              "    </g>\n",
              "</svg>\n",
              "  </button>\n",
              "\n",
              "<style>\n",
              "  .colab-df-quickchart {\n",
              "      --bg-color: #E8F0FE;\n",
              "      --fill-color: #1967D2;\n",
              "      --hover-bg-color: #E2EBFA;\n",
              "      --hover-fill-color: #174EA6;\n",
              "      --disabled-fill-color: #AAA;\n",
              "      --disabled-bg-color: #DDD;\n",
              "  }\n",
              "\n",
              "  [theme=dark] .colab-df-quickchart {\n",
              "      --bg-color: #3B4455;\n",
              "      --fill-color: #D2E3FC;\n",
              "      --hover-bg-color: #434B5C;\n",
              "      --hover-fill-color: #FFFFFF;\n",
              "      --disabled-bg-color: #3B4455;\n",
              "      --disabled-fill-color: #666;\n",
              "  }\n",
              "\n",
              "  .colab-df-quickchart {\n",
              "    background-color: var(--bg-color);\n",
              "    border: none;\n",
              "    border-radius: 50%;\n",
              "    cursor: pointer;\n",
              "    display: none;\n",
              "    fill: var(--fill-color);\n",
              "    height: 32px;\n",
              "    padding: 0;\n",
              "    width: 32px;\n",
              "  }\n",
              "\n",
              "  .colab-df-quickchart:hover {\n",
              "    background-color: var(--hover-bg-color);\n",
              "    box-shadow: 0 1px 2px rgba(60, 64, 67, 0.3), 0 1px 3px 1px rgba(60, 64, 67, 0.15);\n",
              "    fill: var(--button-hover-fill-color);\n",
              "  }\n",
              "\n",
              "  .colab-df-quickchart-complete:disabled,\n",
              "  .colab-df-quickchart-complete:disabled:hover {\n",
              "    background-color: var(--disabled-bg-color);\n",
              "    fill: var(--disabled-fill-color);\n",
              "    box-shadow: none;\n",
              "  }\n",
              "\n",
              "  .colab-df-spinner {\n",
              "    border: 2px solid var(--fill-color);\n",
              "    border-color: transparent;\n",
              "    border-bottom-color: var(--fill-color);\n",
              "    animation:\n",
              "      spin 1s steps(1) infinite;\n",
              "  }\n",
              "\n",
              "  @keyframes spin {\n",
              "    0% {\n",
              "      border-color: transparent;\n",
              "      border-bottom-color: var(--fill-color);\n",
              "      border-left-color: var(--fill-color);\n",
              "    }\n",
              "    20% {\n",
              "      border-color: transparent;\n",
              "      border-left-color: var(--fill-color);\n",
              "      border-top-color: var(--fill-color);\n",
              "    }\n",
              "    30% {\n",
              "      border-color: transparent;\n",
              "      border-left-color: var(--fill-color);\n",
              "      border-top-color: var(--fill-color);\n",
              "      border-right-color: var(--fill-color);\n",
              "    }\n",
              "    40% {\n",
              "      border-color: transparent;\n",
              "      border-right-color: var(--fill-color);\n",
              "      border-top-color: var(--fill-color);\n",
              "    }\n",
              "    60% {\n",
              "      border-color: transparent;\n",
              "      border-right-color: var(--fill-color);\n",
              "    }\n",
              "    80% {\n",
              "      border-color: transparent;\n",
              "      border-right-color: var(--fill-color);\n",
              "      border-bottom-color: var(--fill-color);\n",
              "    }\n",
              "    90% {\n",
              "      border-color: transparent;\n",
              "      border-bottom-color: var(--fill-color);\n",
              "    }\n",
              "  }\n",
              "</style>\n",
              "\n",
              "  <script>\n",
              "    async function quickchart(key) {\n",
              "      const quickchartButtonEl =\n",
              "        document.querySelector('#' + key + ' button');\n",
              "      quickchartButtonEl.disabled = true;  // To prevent multiple clicks.\n",
              "      quickchartButtonEl.classList.add('colab-df-spinner');\n",
              "      try {\n",
              "        const charts = await google.colab.kernel.invokeFunction(\n",
              "            'suggestCharts', [key], {});\n",
              "      } catch (error) {\n",
              "        console.error('Error during call to suggestCharts:', error);\n",
              "      }\n",
              "      quickchartButtonEl.classList.remove('colab-df-spinner');\n",
              "      quickchartButtonEl.classList.add('colab-df-quickchart-complete');\n",
              "    }\n",
              "    (() => {\n",
              "      let quickchartButtonEl =\n",
              "        document.querySelector('#df-d91e865e-75f3-4f12-8f9d-9c0a757233db button');\n",
              "      quickchartButtonEl.style.display =\n",
              "        google.colab.kernel.accessAllowed ? 'block' : 'none';\n",
              "    })();\n",
              "  </script>\n",
              "</div>\n",
              "\n",
              "    </div>\n",
              "  </div>\n"
            ],
            "application/vnd.google.colaboratory.intrinsic+json": {
              "type": "dataframe"
            }
          },
          "metadata": {},
          "execution_count": 2
        }
      ]
    },
    {
      "cell_type": "code",
      "source": [
        "df.columns"
      ],
      "metadata": {
        "colab": {
          "base_uri": "https://localhost:8080/"
        },
        "id": "iSn6_cEYJtAp",
        "outputId": "87904be7-f4d8-4519-ad14-b457b9fd189e"
      },
      "execution_count": 3,
      "outputs": [
        {
          "output_type": "execute_result",
          "data": {
            "text/plain": [
              "Index(['Unnamed: 0', 'hotel', 'is_canceled', 'lead_time', 'arrival_date_year',\n",
              "       'arrival_date_month', 'arrival_date_week_number',\n",
              "       'arrival_date_day_of_month', 'stays_in_weekend_nights',\n",
              "       'stays_in_week_nights', 'adults', 'children', 'babies', 'meal',\n",
              "       'country', 'distribution_channel', 'is_repeated_guest',\n",
              "       'previous_cancellations', 'previous_bookings_not_canceled',\n",
              "       'reserved_room_type', 'assigned_room_type', 'booking_changes',\n",
              "       'deposit_type', 'agent', 'company', 'days_in_waiting_list',\n",
              "       'customer_type', 'adr', 'required_car_parking_spaces',\n",
              "       'total_of_special_requests'],\n",
              "      dtype='object')"
            ]
          },
          "metadata": {},
          "execution_count": 3
        }
      ]
    },
    {
      "cell_type": "markdown",
      "source": [
        "#removing null values"
      ],
      "metadata": {
        "id": "azo4RhAr3c0a"
      }
    },
    {
      "cell_type": "code",
      "source": [
        "df.isnull().sum()"
      ],
      "metadata": {
        "colab": {
          "base_uri": "https://localhost:8080/",
          "height": 0
        },
        "id": "204r8sgAK2gI",
        "outputId": "b94ed82e-71ff-4497-a27d-6329c517b930"
      },
      "execution_count": 4,
      "outputs": [
        {
          "output_type": "execute_result",
          "data": {
            "text/plain": [
              "Unnamed: 0                             0\n",
              "hotel                                  0\n",
              "is_canceled                            0\n",
              "lead_time                              0\n",
              "arrival_date_year                      0\n",
              "arrival_date_month                     0\n",
              "arrival_date_week_number               0\n",
              "arrival_date_day_of_month              0\n",
              "stays_in_weekend_nights                0\n",
              "stays_in_week_nights                   0\n",
              "adults                                 0\n",
              "children                               4\n",
              "babies                                 0\n",
              "meal                                   0\n",
              "country                              488\n",
              "distribution_channel                   0\n",
              "is_repeated_guest                      0\n",
              "previous_cancellations                 0\n",
              "previous_bookings_not_canceled         0\n",
              "reserved_room_type                     0\n",
              "assigned_room_type                     0\n",
              "booking_changes                        0\n",
              "deposit_type                           0\n",
              "agent                              16340\n",
              "company                           112593\n",
              "days_in_waiting_list                   0\n",
              "customer_type                          0\n",
              "adr                                    0\n",
              "required_car_parking_spaces            0\n",
              "total_of_special_requests              0\n",
              "dtype: int64"
            ],
            "text/html": [
              "<div>\n",
              "<style scoped>\n",
              "    .dataframe tbody tr th:only-of-type {\n",
              "        vertical-align: middle;\n",
              "    }\n",
              "\n",
              "    .dataframe tbody tr th {\n",
              "        vertical-align: top;\n",
              "    }\n",
              "\n",
              "    .dataframe thead th {\n",
              "        text-align: right;\n",
              "    }\n",
              "</style>\n",
              "<table border=\"1\" class=\"dataframe\">\n",
              "  <thead>\n",
              "    <tr style=\"text-align: right;\">\n",
              "      <th></th>\n",
              "      <th>0</th>\n",
              "    </tr>\n",
              "  </thead>\n",
              "  <tbody>\n",
              "    <tr>\n",
              "      <th>Unnamed: 0</th>\n",
              "      <td>0</td>\n",
              "    </tr>\n",
              "    <tr>\n",
              "      <th>hotel</th>\n",
              "      <td>0</td>\n",
              "    </tr>\n",
              "    <tr>\n",
              "      <th>is_canceled</th>\n",
              "      <td>0</td>\n",
              "    </tr>\n",
              "    <tr>\n",
              "      <th>lead_time</th>\n",
              "      <td>0</td>\n",
              "    </tr>\n",
              "    <tr>\n",
              "      <th>arrival_date_year</th>\n",
              "      <td>0</td>\n",
              "    </tr>\n",
              "    <tr>\n",
              "      <th>arrival_date_month</th>\n",
              "      <td>0</td>\n",
              "    </tr>\n",
              "    <tr>\n",
              "      <th>arrival_date_week_number</th>\n",
              "      <td>0</td>\n",
              "    </tr>\n",
              "    <tr>\n",
              "      <th>arrival_date_day_of_month</th>\n",
              "      <td>0</td>\n",
              "    </tr>\n",
              "    <tr>\n",
              "      <th>stays_in_weekend_nights</th>\n",
              "      <td>0</td>\n",
              "    </tr>\n",
              "    <tr>\n",
              "      <th>stays_in_week_nights</th>\n",
              "      <td>0</td>\n",
              "    </tr>\n",
              "    <tr>\n",
              "      <th>adults</th>\n",
              "      <td>0</td>\n",
              "    </tr>\n",
              "    <tr>\n",
              "      <th>children</th>\n",
              "      <td>4</td>\n",
              "    </tr>\n",
              "    <tr>\n",
              "      <th>babies</th>\n",
              "      <td>0</td>\n",
              "    </tr>\n",
              "    <tr>\n",
              "      <th>meal</th>\n",
              "      <td>0</td>\n",
              "    </tr>\n",
              "    <tr>\n",
              "      <th>country</th>\n",
              "      <td>488</td>\n",
              "    </tr>\n",
              "    <tr>\n",
              "      <th>distribution_channel</th>\n",
              "      <td>0</td>\n",
              "    </tr>\n",
              "    <tr>\n",
              "      <th>is_repeated_guest</th>\n",
              "      <td>0</td>\n",
              "    </tr>\n",
              "    <tr>\n",
              "      <th>previous_cancellations</th>\n",
              "      <td>0</td>\n",
              "    </tr>\n",
              "    <tr>\n",
              "      <th>previous_bookings_not_canceled</th>\n",
              "      <td>0</td>\n",
              "    </tr>\n",
              "    <tr>\n",
              "      <th>reserved_room_type</th>\n",
              "      <td>0</td>\n",
              "    </tr>\n",
              "    <tr>\n",
              "      <th>assigned_room_type</th>\n",
              "      <td>0</td>\n",
              "    </tr>\n",
              "    <tr>\n",
              "      <th>booking_changes</th>\n",
              "      <td>0</td>\n",
              "    </tr>\n",
              "    <tr>\n",
              "      <th>deposit_type</th>\n",
              "      <td>0</td>\n",
              "    </tr>\n",
              "    <tr>\n",
              "      <th>agent</th>\n",
              "      <td>16340</td>\n",
              "    </tr>\n",
              "    <tr>\n",
              "      <th>company</th>\n",
              "      <td>112593</td>\n",
              "    </tr>\n",
              "    <tr>\n",
              "      <th>days_in_waiting_list</th>\n",
              "      <td>0</td>\n",
              "    </tr>\n",
              "    <tr>\n",
              "      <th>customer_type</th>\n",
              "      <td>0</td>\n",
              "    </tr>\n",
              "    <tr>\n",
              "      <th>adr</th>\n",
              "      <td>0</td>\n",
              "    </tr>\n",
              "    <tr>\n",
              "      <th>required_car_parking_spaces</th>\n",
              "      <td>0</td>\n",
              "    </tr>\n",
              "    <tr>\n",
              "      <th>total_of_special_requests</th>\n",
              "      <td>0</td>\n",
              "    </tr>\n",
              "  </tbody>\n",
              "</table>\n",
              "</div><br><label><b>dtype:</b> int64</label>"
            ]
          },
          "metadata": {},
          "execution_count": 4
        }
      ]
    },
    {
      "cell_type": "markdown",
      "source": [
        "Since the company column is mostly empty we will remove it altogether."
      ],
      "metadata": {
        "id": "ZSMGfvA9MkKX"
      }
    },
    {
      "cell_type": "code",
      "source": [
        "df.drop(\"company\", axis=1, inplace=True)"
      ],
      "metadata": {
        "id": "Oc6ctQWgMOCe"
      },
      "execution_count": 5,
      "outputs": []
    },
    {
      "cell_type": "markdown",
      "source": [
        "null in the 'agent' column most likely means no agent fees so we will replace it with 0"
      ],
      "metadata": {
        "id": "jkzm0hSDMvLo"
      }
    },
    {
      "cell_type": "code",
      "source": [
        "df[\"agent\"].fillna(0, inplace=True)"
      ],
      "metadata": {
        "id": "pBXv2PPwM4ZK"
      },
      "execution_count": 6,
      "outputs": []
    },
    {
      "cell_type": "markdown",
      "source": [
        "next we will drop null values from both 'country' and the 'children' columns"
      ],
      "metadata": {
        "id": "9VJczXwXNG-D"
      }
    },
    {
      "cell_type": "code",
      "source": [
        "df.dropna(subset=[\"country\", \"children\"], inplace=True)"
      ],
      "metadata": {
        "id": "EeK6HCPCM9xA"
      },
      "execution_count": 7,
      "outputs": []
    },
    {
      "cell_type": "code",
      "source": [
        "df['babies'].value_counts()"
      ],
      "metadata": {
        "colab": {
          "base_uri": "https://localhost:8080/",
          "height": 0
        },
        "id": "ChVJ3xNmNSVr",
        "outputId": "018b2808-84af-40bb-d390-6d35c17a653b"
      },
      "execution_count": 8,
      "outputs": [
        {
          "output_type": "execute_result",
          "data": {
            "text/plain": [
              "babies\n",
              "0     117984\n",
              "1        898\n",
              "2         14\n",
              "10         1\n",
              "9          1\n",
              "Name: count, dtype: int64"
            ],
            "text/html": [
              "<div>\n",
              "<style scoped>\n",
              "    .dataframe tbody tr th:only-of-type {\n",
              "        vertical-align: middle;\n",
              "    }\n",
              "\n",
              "    .dataframe tbody tr th {\n",
              "        vertical-align: top;\n",
              "    }\n",
              "\n",
              "    .dataframe thead th {\n",
              "        text-align: right;\n",
              "    }\n",
              "</style>\n",
              "<table border=\"1\" class=\"dataframe\">\n",
              "  <thead>\n",
              "    <tr style=\"text-align: right;\">\n",
              "      <th></th>\n",
              "      <th>count</th>\n",
              "    </tr>\n",
              "    <tr>\n",
              "      <th>babies</th>\n",
              "      <th></th>\n",
              "    </tr>\n",
              "  </thead>\n",
              "  <tbody>\n",
              "    <tr>\n",
              "      <th>0</th>\n",
              "      <td>117984</td>\n",
              "    </tr>\n",
              "    <tr>\n",
              "      <th>1</th>\n",
              "      <td>898</td>\n",
              "    </tr>\n",
              "    <tr>\n",
              "      <th>2</th>\n",
              "      <td>14</td>\n",
              "    </tr>\n",
              "    <tr>\n",
              "      <th>10</th>\n",
              "      <td>1</td>\n",
              "    </tr>\n",
              "    <tr>\n",
              "      <th>9</th>\n",
              "      <td>1</td>\n",
              "    </tr>\n",
              "  </tbody>\n",
              "</table>\n",
              "</div><br><label><b>dtype:</b> int64</label>"
            ]
          },
          "metadata": {},
          "execution_count": 8
        }
      ]
    },
    {
      "cell_type": "markdown",
      "source": [
        "we will not use the babies column as the number of guests with babies were minimal and we will not use the 'arrival_date_wee_number' column either. Furthermore the 'Unnamed:0 column is just the index so it is not needed."
      ],
      "metadata": {
        "id": "Qu7Sy1tQNVMc"
      }
    },
    {
      "cell_type": "code",
      "source": [
        "df.drop(['babies', 'Unnamed: 0' , 'arrival_date_week_number'], axis=1, inplace=True)"
      ],
      "metadata": {
        "id": "AYmDzd8SOL9U"
      },
      "execution_count": 9,
      "outputs": []
    },
    {
      "cell_type": "markdown",
      "source": [
        "Now let's make sure there are no more null values in the remaining columns"
      ],
      "metadata": {
        "id": "L0gc-2aPOuia"
      }
    },
    {
      "cell_type": "code",
      "source": [
        "if(df.isnull().values.any()==False):\n",
        "  print(\"no more null values\")"
      ],
      "metadata": {
        "colab": {
          "base_uri": "https://localhost:8080/"
        },
        "id": "iOPNODNyOtzG",
        "outputId": "49cb32e3-06f2-4ca3-830c-aa5b85fe3433"
      },
      "execution_count": 10,
      "outputs": [
        {
          "output_type": "stream",
          "name": "stdout",
          "text": [
            "no more null values\n"
          ]
        }
      ]
    },
    {
      "cell_type": "markdown",
      "source": [
        "#removing outliers"
      ],
      "metadata": {
        "id": "_-b4ZUSj3ZLt"
      }
    },
    {
      "cell_type": "markdown",
      "source": [
        "Now we need to check for and remove outliers"
      ],
      "metadata": {
        "id": "lgkGpZ773TFF"
      }
    },
    {
      "cell_type": "markdown",
      "source": [
        "Some columns could have unrealistically high values due to an error during data entry so we must check for it just in case"
      ],
      "metadata": {
        "id": "gzb8moc33poY"
      }
    },
    {
      "cell_type": "code",
      "source": [
        "cl = ['stays_in_weekend_nights', 'stays_in_week_nights', 'adults', 'children','previous_cancellations', 'previous_bookings_not_canceled','booking_changes','days_in_waiting_list','adr',\n",
        "       'required_car_parking_spaces', 'total_of_special_requests']\n",
        "for col in cl:\n",
        "  print(col)\n",
        "  print(df[col].max())"
      ],
      "metadata": {
        "colab": {
          "base_uri": "https://localhost:8080/"
        },
        "id": "AZcakrT_3x0L",
        "outputId": "905e109a-d6ed-44ae-dbae-ec327fc67a49"
      },
      "execution_count": 11,
      "outputs": [
        {
          "output_type": "stream",
          "name": "stdout",
          "text": [
            "stays_in_weekend_nights\n",
            "16\n",
            "stays_in_week_nights\n",
            "41\n",
            "adults\n",
            "55\n",
            "children\n",
            "10.0\n",
            "previous_cancellations\n",
            "26\n",
            "previous_bookings_not_canceled\n",
            "72\n",
            "booking_changes\n",
            "21\n",
            "days_in_waiting_list\n",
            "391\n",
            "adr\n",
            "5400.0\n",
            "required_car_parking_spaces\n",
            "8\n",
            "total_of_special_requests\n",
            "5\n"
          ]
        }
      ]
    },
    {
      "cell_type": "markdown",
      "source": [
        "we check the boxplots for the 'agent' and 'lead_time' columns"
      ],
      "metadata": {
        "id": "6XYCZ9XkFSYl"
      }
    },
    {
      "cell_type": "code",
      "source": [
        "sns.boxplot(data=df[['agent' ,'lead_time']] , orient='h')"
      ],
      "metadata": {
        "colab": {
          "base_uri": "https://localhost:8080/",
          "height": 447
        },
        "id": "4MPTzG1DFMiB",
        "outputId": "ddb15607-e444-4a50-f3f0-bd14d0ea77d3"
      },
      "execution_count": 12,
      "outputs": [
        {
          "output_type": "execute_result",
          "data": {
            "text/plain": [
              "<Axes: >"
            ]
          },
          "metadata": {},
          "execution_count": 12
        },
        {
          "output_type": "display_data",
          "data": {
            "text/plain": [
              "<Figure size 640x480 with 1 Axes>"
            ],
            "image/png": "[encoded data removed]"
          },
          "metadata": {}
        }
      ]
    },
    {
      "cell_type": "markdown",
      "source": [
        "Now we romve the outliers from the lead_time and adr columns"
      ],
      "metadata": {
        "id": "r0UmPhveBooY"
      }
    },
    {
      "cell_type": "code",
      "source": [
        "# function that removes outliers from a column\n",
        "def remove_outliers(df, column):\n",
        "    Q1 = df[column].quantile(0.25)\n",
        "    Q3 = df[column].quantile(0.75)\n",
        "    IQR = Q3 - Q1\n",
        "    lower_bound = Q1 - 1.5 * IQR\n",
        "    upper_bound = Q3 + 1.5 * IQR\n",
        "    df = df[(df[column] >= lower_bound) & (df[column] <= upper_bound)]\n",
        "\n",
        "    return df"
      ],
      "metadata": {
        "id": "J1lJKZQA73TP"
      },
      "execution_count": 13,
      "outputs": []
    },
    {
      "cell_type": "code",
      "source": [
        "df = remove_outliers(df, 'lead_time')\n",
        "df = remove_outliers(df, 'agent')"
      ],
      "metadata": {
        "id": "bDo81yfm_Z5W"
      },
      "execution_count": 14,
      "outputs": []
    },
    {
      "cell_type": "markdown",
      "source": [
        "Let's check again"
      ],
      "metadata": {
        "id": "kpmRhy3-DTwS"
      }
    },
    {
      "cell_type": "code",
      "source": [
        "sns.boxplot(data=df[['agent' ,'lead_time']] , orient='h')"
      ],
      "metadata": {
        "colab": {
          "base_uri": "https://localhost:8080/",
          "height": 447
        },
        "id": "PJbNnXzGO8Jy",
        "outputId": "be1a4a54-38a3-45a7-a0ea-3f00a2efe4f1"
      },
      "execution_count": 15,
      "outputs": [
        {
          "output_type": "execute_result",
          "data": {
            "text/plain": [
              "<Axes: >"
            ]
          },
          "metadata": {},
          "execution_count": 15
        },
        {
          "output_type": "display_data",
          "data": {
            "text/plain": [
              "<Figure size 640x480 with 1 Axes>"
            ],
            "image/png": "[encoded data removed]"
          },
          "metadata": {}
        }
      ]
    },
    {
      "cell_type": "markdown",
      "source": [
        "We add a 'revenue' column that is equal to the total revenue mad from each reservation"
      ],
      "metadata": {
        "id": "atXQnXXgk2Mg"
      }
    },
    {
      "cell_type": "code",
      "source": [
        "df['revenue'] = df['adr'] * (df['stays_in_weekend_nights'] + df['stays_in_week_nights'])"
      ],
      "metadata": {
        "id": "7v7DedhKk2UF"
      },
      "execution_count": 16,
      "outputs": []
    },
    {
      "cell_type": "markdown",
      "source": [
        "#SQL"
      ],
      "metadata": {
        "id": "dyC7XBeHPZgL"
      }
    },
    {
      "cell_type": "markdown",
      "source": [
        "We will load the dtaframe into an SQL database for some querying"
      ],
      "metadata": {
        "id": "98tU6KV7Rl_f"
      }
    },
    {
      "cell_type": "code",
      "source": [
        "%load_ext sql"
      ],
      "metadata": {
        "id": "FagZNRIdKMyw"
      },
      "execution_count": 17,
      "outputs": []
    },
    {
      "cell_type": "code",
      "source": [
        "conn = sqlite3.connect(\"egphotelbookings.db\")\n",
        "cursor = conn.cursor()"
      ],
      "metadata": {
        "id": "XgJY-ZtNKQqA"
      },
      "execution_count": 18,
      "outputs": []
    },
    {
      "cell_type": "code",
      "source": [
        "%sql sqlite:///egphotelbookings.db"
      ],
      "metadata": {
        "id": "8RRAxw-BKZWz"
      },
      "execution_count": 19,
      "outputs": []
    },
    {
      "cell_type": "code",
      "source": [
        "df.to_sql(\"hotelbookings\", conn, if_exists=\"replace\", index=False)"
      ],
      "metadata": {
        "colab": {
          "base_uri": "https://localhost:8080/"
        },
        "id": "MY3uC0wnKnjh",
        "outputId": "fbbd1dcf-ad6a-491d-bef4-2f0249987673"
      },
      "execution_count": 20,
      "outputs": [
        {
          "output_type": "execute_result",
          "data": {
            "text/plain": [
              "114667"
            ]
          },
          "metadata": {},
          "execution_count": 20
        }
      ]
    },
    {
      "cell_type": "markdown",
      "source": [
        "let's check which months have the highest amount of bookings"
      ],
      "metadata": {
        "id": "dwvAKY8RR2bU"
      }
    },
    {
      "cell_type": "code",
      "source": [
        "%sql select arrival_date_month , count(arrival_date_month) from hotelbookings group by arrival_date_month order by count(arrival_date_month) desc;"
      ],
      "metadata": {
        "colab": {
          "base_uri": "https://localhost:8080/",
          "height": 0
        },
        "id": "QoYDMMvcKxgg",
        "outputId": "c66001be-9226-4a79-9564-da173467f769"
      },
      "execution_count": 21,
      "outputs": [
        {
          "output_type": "stream",
          "name": "stdout",
          "text": [
            " * sqlite:///egphotelbookings.db\n",
            "Done.\n"
          ]
        },
        {
          "output_type": "execute_result",
          "data": {
            "text/plain": [
              "[('August', 13395),\n",
              " ('July', 11988),\n",
              " ('May', 11276),\n",
              " ('April', 10713),\n",
              " ('June', 10599),\n",
              " ('October', 10509),\n",
              " ('September', 10077),\n",
              " ('March', 9341),\n",
              " ('February', 7901),\n",
              " ('November', 6576),\n",
              " ('December', 6506),\n",
              " ('January', 5786)]"
            ],
            "text/html": [
              "<table>\n",
              "    <thead>\n",
              "        <tr>\n",
              "            <th>arrival_date_month</th>\n",
              "            <th>count(arrival_date_month)</th>\n",
              "        </tr>\n",
              "    </thead>\n",
              "    <tbody>\n",
              "        <tr>\n",
              "            <td>August</td>\n",
              "            <td>13395</td>\n",
              "        </tr>\n",
              "        <tr>\n",
              "            <td>July</td>\n",
              "            <td>11988</td>\n",
              "        </tr>\n",
              "        <tr>\n",
              "            <td>May</td>\n",
              "            <td>11276</td>\n",
              "        </tr>\n",
              "        <tr>\n",
              "            <td>April</td>\n",
              "            <td>10713</td>\n",
              "        </tr>\n",
              "        <tr>\n",
              "            <td>June</td>\n",
              "            <td>10599</td>\n",
              "        </tr>\n",
              "        <tr>\n",
              "            <td>October</td>\n",
              "            <td>10509</td>\n",
              "        </tr>\n",
              "        <tr>\n",
              "            <td>September</td>\n",
              "            <td>10077</td>\n",
              "        </tr>\n",
              "        <tr>\n",
              "            <td>March</td>\n",
              "            <td>9341</td>\n",
              "        </tr>\n",
              "        <tr>\n",
              "            <td>February</td>\n",
              "            <td>7901</td>\n",
              "        </tr>\n",
              "        <tr>\n",
              "            <td>November</td>\n",
              "            <td>6576</td>\n",
              "        </tr>\n",
              "        <tr>\n",
              "            <td>December</td>\n",
              "            <td>6506</td>\n",
              "        </tr>\n",
              "        <tr>\n",
              "            <td>January</td>\n",
              "            <td>5786</td>\n",
              "        </tr>\n",
              "    </tbody>\n",
              "</table>"
            ]
          },
          "metadata": {},
          "execution_count": 21
        }
      ]
    },
    {
      "cell_type": "markdown",
      "source": [
        "Which months bring in the most revenue?"
      ],
      "metadata": {
        "id": "MXaWNMLUlnGg"
      }
    },
    {
      "cell_type": "code",
      "source": [
        "%sql select arrival_date_month as Month , round(sum(revenue),0) as total_revenue from hotelbookings group by arrival_date_month order by total_revenue desc;"
      ],
      "metadata": {
        "colab": {
          "base_uri": "https://localhost:8080/",
          "height": 0
        },
        "id": "11eoptldlrnw",
        "outputId": "e43be683-6fb3-4aaa-f8e9-be69b95cd2ae"
      },
      "execution_count": 22,
      "outputs": [
        {
          "output_type": "stream",
          "name": "stdout",
          "text": [
            " * sqlite:///egphotelbookings.db\n",
            "Done.\n"
          ]
        },
        {
          "output_type": "execute_result",
          "data": {
            "text/plain": [
              "[('August', 7765516.0),\n",
              " ('July', 6372167.0),\n",
              " ('June', 4387268.0),\n",
              " ('May', 3970461.0),\n",
              " ('September', 3621936.0),\n",
              " ('April', 3578490.0),\n",
              " ('October', 2896509.0),\n",
              " ('March', 2500225.0),\n",
              " ('February', 1792659.0),\n",
              " ('December', 1743961.0),\n",
              " ('November', 1566734.0),\n",
              " ('January', 1256647.0)]"
            ],
            "text/html": [
              "<table>\n",
              "    <thead>\n",
              "        <tr>\n",
              "            <th>Month</th>\n",
              "            <th>total_revenue</th>\n",
              "        </tr>\n",
              "    </thead>\n",
              "    <tbody>\n",
              "        <tr>\n",
              "            <td>August</td>\n",
              "            <td>7765516.0</td>\n",
              "        </tr>\n",
              "        <tr>\n",
              "            <td>July</td>\n",
              "            <td>6372167.0</td>\n",
              "        </tr>\n",
              "        <tr>\n",
              "            <td>June</td>\n",
              "            <td>4387268.0</td>\n",
              "        </tr>\n",
              "        <tr>\n",
              "            <td>May</td>\n",
              "            <td>3970461.0</td>\n",
              "        </tr>\n",
              "        <tr>\n",
              "            <td>September</td>\n",
              "            <td>3621936.0</td>\n",
              "        </tr>\n",
              "        <tr>\n",
              "            <td>April</td>\n",
              "            <td>3578490.0</td>\n",
              "        </tr>\n",
              "        <tr>\n",
              "            <td>October</td>\n",
              "            <td>2896509.0</td>\n",
              "        </tr>\n",
              "        <tr>\n",
              "            <td>March</td>\n",
              "            <td>2500225.0</td>\n",
              "        </tr>\n",
              "        <tr>\n",
              "            <td>February</td>\n",
              "            <td>1792659.0</td>\n",
              "        </tr>\n",
              "        <tr>\n",
              "            <td>December</td>\n",
              "            <td>1743961.0</td>\n",
              "        </tr>\n",
              "        <tr>\n",
              "            <td>November</td>\n",
              "            <td>1566734.0</td>\n",
              "        </tr>\n",
              "        <tr>\n",
              "            <td>January</td>\n",
              "            <td>1256647.0</td>\n",
              "        </tr>\n",
              "    </tbody>\n",
              "</table>"
            ]
          },
          "metadata": {},
          "execution_count": 22
        }
      ]
    },
    {
      "cell_type": "markdown",
      "source": [
        "What are the customer types?"
      ],
      "metadata": {
        "id": "qifSfB1qTNMo"
      }
    },
    {
      "cell_type": "code",
      "source": [
        "%sql select distinct customer_type from hotelbookings;"
      ],
      "metadata": {
        "colab": {
          "base_uri": "https://localhost:8080/",
          "height": 0
        },
        "id": "FcOWpCQ0SHNV",
        "outputId": "0ab6d5b0-f4b0-4733-e49e-b0a9f9cd4881"
      },
      "execution_count": 23,
      "outputs": [
        {
          "output_type": "stream",
          "name": "stdout",
          "text": [
            " * sqlite:///egphotelbookings.db\n",
            "Done.\n"
          ]
        },
        {
          "output_type": "execute_result",
          "data": {
            "text/plain": [
              "[('Transient',), ('Contract',), ('Transient-Party',), ('Group',)]"
            ],
            "text/html": [
              "<table>\n",
              "    <thead>\n",
              "        <tr>\n",
              "            <th>customer_type</th>\n",
              "        </tr>\n",
              "    </thead>\n",
              "    <tbody>\n",
              "        <tr>\n",
              "            <td>Transient</td>\n",
              "        </tr>\n",
              "        <tr>\n",
              "            <td>Contract</td>\n",
              "        </tr>\n",
              "        <tr>\n",
              "            <td>Transient-Party</td>\n",
              "        </tr>\n",
              "        <tr>\n",
              "            <td>Group</td>\n",
              "        </tr>\n",
              "    </tbody>\n",
              "</table>"
            ]
          },
          "metadata": {},
          "execution_count": 23
        }
      ]
    },
    {
      "cell_type": "code",
      "source": [
        "%sql select customer_type , count(customer_type) from hotelbookings group by customer_type order by count(customer_type) DESC;"
      ],
      "metadata": {
        "colab": {
          "base_uri": "https://localhost:8080/",
          "height": 0
        },
        "id": "Qa84BtioQaTg",
        "outputId": "41ea8208-7f64-4e7e-a854-17a35fd1681d"
      },
      "execution_count": 24,
      "outputs": [
        {
          "output_type": "stream",
          "name": "stdout",
          "text": [
            " * sqlite:///egphotelbookings.db\n",
            "Done.\n"
          ]
        },
        {
          "output_type": "execute_result",
          "data": {
            "text/plain": [
              "[('Transient', 86769),\n",
              " ('Transient-Party', 23352),\n",
              " ('Contract', 3990),\n",
              " ('Group', 556)]"
            ],
            "text/html": [
              "<table>\n",
              "    <thead>\n",
              "        <tr>\n",
              "            <th>customer_type</th>\n",
              "            <th>count(customer_type)</th>\n",
              "        </tr>\n",
              "    </thead>\n",
              "    <tbody>\n",
              "        <tr>\n",
              "            <td>Transient</td>\n",
              "            <td>86769</td>\n",
              "        </tr>\n",
              "        <tr>\n",
              "            <td>Transient-Party</td>\n",
              "            <td>23352</td>\n",
              "        </tr>\n",
              "        <tr>\n",
              "            <td>Contract</td>\n",
              "            <td>3990</td>\n",
              "        </tr>\n",
              "        <tr>\n",
              "            <td>Group</td>\n",
              "            <td>556</td>\n",
              "        </tr>\n",
              "    </tbody>\n",
              "</table>"
            ]
          },
          "metadata": {},
          "execution_count": 24
        }
      ]
    },
    {
      "cell_type": "markdown",
      "source": [],
      "metadata": {
        "id": "Qs1EiYejQn16"
      }
    },
    {
      "cell_type": "markdown",
      "source": [
        "what is the average number of nights stayed in each hotel?"
      ],
      "metadata": {
        "id": "9WSx5FIDYXTO"
      }
    },
    {
      "cell_type": "code",
      "source": [
        "%sql select hotel , round(avg(stays_in_weekend_nights + stays_in_week_nights), 2) from hotelbookings group by hotel;"
      ],
      "metadata": {
        "colab": {
          "base_uri": "https://localhost:8080/",
          "height": 0
        },
        "id": "GsfOTIUDWL_Q",
        "outputId": "7a602236-ba95-4c6d-d571-c64c54e23232"
      },
      "execution_count": 25,
      "outputs": [
        {
          "output_type": "stream",
          "name": "stdout",
          "text": [
            " * sqlite:///egphotelbookings.db\n",
            "Done.\n"
          ]
        },
        {
          "output_type": "execute_result",
          "data": {
            "text/plain": [
              "[('JW Marriott Hotel', 3.0), ('Renaissance Hotel', 4.29)]"
            ],
            "text/html": [
              "<table>\n",
              "    <thead>\n",
              "        <tr>\n",
              "            <th>hotel</th>\n",
              "            <th>round(avg(stays_in_weekend_nights + stays_in_week_nights), 2)</th>\n",
              "        </tr>\n",
              "    </thead>\n",
              "    <tbody>\n",
              "        <tr>\n",
              "            <td>JW Marriott Hotel</td>\n",
              "            <td>3.0</td>\n",
              "        </tr>\n",
              "        <tr>\n",
              "            <td>Renaissance Hotel</td>\n",
              "            <td>4.29</td>\n",
              "        </tr>\n",
              "    </tbody>\n",
              "</table>"
            ]
          },
          "metadata": {},
          "execution_count": 25
        }
      ]
    },
    {
      "cell_type": "markdown",
      "source": [
        "What is the number of reservations per distribution channel?"
      ],
      "metadata": {
        "id": "Gh2e097Djmd-"
      }
    },
    {
      "cell_type": "code",
      "source": [
        "%sql select distribution_channel , count(distribution_channel) from hotelbookings group by distribution_channel order by count(distribution_channel) desc;"
      ],
      "metadata": {
        "colab": {
          "base_uri": "https://localhost:8080/",
          "height": 0
        },
        "id": "EK9cfxwhjZMW",
        "outputId": "6f47d44f-6ecd-4e64-ade1-f94eabd7c936"
      },
      "execution_count": 26,
      "outputs": [
        {
          "output_type": "stream",
          "name": "stdout",
          "text": [
            " * sqlite:///egphotelbookings.db\n",
            "Done.\n"
          ]
        },
        {
          "output_type": "execute_result",
          "data": {
            "text/plain": [
              "[('TA/TO', 93782),\n",
              " ('Direct', 14425),\n",
              " ('Corporate', 6266),\n",
              " ('GDS', 193),\n",
              " ('Undefined', 1)]"
            ],
            "text/html": [
              "<table>\n",
              "    <thead>\n",
              "        <tr>\n",
              "            <th>distribution_channel</th>\n",
              "            <th>count(distribution_channel)</th>\n",
              "        </tr>\n",
              "    </thead>\n",
              "    <tbody>\n",
              "        <tr>\n",
              "            <td>TA/TO</td>\n",
              "            <td>93782</td>\n",
              "        </tr>\n",
              "        <tr>\n",
              "            <td>Direct</td>\n",
              "            <td>14425</td>\n",
              "        </tr>\n",
              "        <tr>\n",
              "            <td>Corporate</td>\n",
              "            <td>6266</td>\n",
              "        </tr>\n",
              "        <tr>\n",
              "            <td>GDS</td>\n",
              "            <td>193</td>\n",
              "        </tr>\n",
              "        <tr>\n",
              "            <td>Undefined</td>\n",
              "            <td>1</td>\n",
              "        </tr>\n",
              "    </tbody>\n",
              "</table>"
            ]
          },
          "metadata": {},
          "execution_count": 26
        }
      ]
    },
    {
      "cell_type": "markdown",
      "source": [
        "what nationality of guests make the most reservations?"
      ],
      "metadata": {
        "id": "ZzEBi3ZTtFqf"
      }
    },
    {
      "cell_type": "code",
      "source": [
        "%sql select country , count(country) as number_of_reservations from hotelbookings group by country order by number_of_reservations desc limit 10;"
      ],
      "metadata": {
        "colab": {
          "base_uri": "https://localhost:8080/",
          "height": 0
        },
        "id": "-kpf3MJml36z",
        "outputId": "9f5826fe-cfbe-40bd-8078-1272c53f2333"
      },
      "execution_count": 27,
      "outputs": [
        {
          "output_type": "stream",
          "name": "stdout",
          "text": [
            " * sqlite:///egphotelbookings.db\n",
            "Done.\n"
          ]
        },
        {
          "output_type": "execute_result",
          "data": {
            "text/plain": [
              "[('PRT', 46019),\n",
              " ('GBR', 11665),\n",
              " ('FRA', 10256),\n",
              " ('ESP', 8512),\n",
              " ('DEU', 6807),\n",
              " ('ITA', 3744),\n",
              " ('IRL', 3329),\n",
              " ('BEL', 2279),\n",
              " ('BRA', 2222),\n",
              " ('NLD', 2102)]"
            ],
            "text/html": [
              "<table>\n",
              "    <thead>\n",
              "        <tr>\n",
              "            <th>country</th>\n",
              "            <th>number_of_reservations</th>\n",
              "        </tr>\n",
              "    </thead>\n",
              "    <tbody>\n",
              "        <tr>\n",
              "            <td>PRT</td>\n",
              "            <td>46019</td>\n",
              "        </tr>\n",
              "        <tr>\n",
              "            <td>GBR</td>\n",
              "            <td>11665</td>\n",
              "        </tr>\n",
              "        <tr>\n",
              "            <td>FRA</td>\n",
              "            <td>10256</td>\n",
              "        </tr>\n",
              "        <tr>\n",
              "            <td>ESP</td>\n",
              "            <td>8512</td>\n",
              "        </tr>\n",
              "        <tr>\n",
              "            <td>DEU</td>\n",
              "            <td>6807</td>\n",
              "        </tr>\n",
              "        <tr>\n",
              "            <td>ITA</td>\n",
              "            <td>3744</td>\n",
              "        </tr>\n",
              "        <tr>\n",
              "            <td>IRL</td>\n",
              "            <td>3329</td>\n",
              "        </tr>\n",
              "        <tr>\n",
              "            <td>BEL</td>\n",
              "            <td>2279</td>\n",
              "        </tr>\n",
              "        <tr>\n",
              "            <td>BRA</td>\n",
              "            <td>2222</td>\n",
              "        </tr>\n",
              "        <tr>\n",
              "            <td>NLD</td>\n",
              "            <td>2102</td>\n",
              "        </tr>\n",
              "    </tbody>\n",
              "</table>"
            ]
          },
          "metadata": {},
          "execution_count": 27
        }
      ]
    },
    {
      "cell_type": "markdown",
      "source": [
        "#EDA"
      ],
      "metadata": {
        "id": "9NMz_RiBEDgB"
      }
    },
    {
      "cell_type": "code",
      "source": [
        "months_order = ['January', 'February', 'March', 'April', 'May', 'June', 'July', 'August', 'September', 'October', 'November', 'December']\n",
        "df['arrival_date_month'] = pd.Categorical(df['arrival_date_month'], categories=months_order, ordered=True)"
      ],
      "metadata": {
        "id": "ia-vKTj97suq"
      },
      "execution_count": 28,
      "outputs": []
    },
    {
      "cell_type": "code",
      "source": [
        "df_month = df['arrival_date_month'].value_counts().reset_index()\n",
        "df_month.sort_values(by = 'arrival_date_month',inplace=True)\n",
        "df_month.columns = ['month' , 'number_of_reservations']\n",
        "palette = ['blue' if month != 'August' else 'orange' for month in df_month['month']]\n",
        "plt.figure(figsize=(13, 6))\n",
        "sns.barplot(x='number_of_reservations', y='month', data=df_month , orient = 'h' , hue = 'month' , palette = palette)\n",
        "#plt.savefig('number_of_reservations_per_month.png', dpi=300, bbox_inches='tight')"
      ],
      "metadata": {
        "colab": {
          "base_uri": "https://localhost:8080/",
          "height": 559
        },
        "id": "c4MaFUSZ0otM",
        "outputId": "52ba1c8c-665c-4e5e-b38f-786b525b97e6"
      },
      "execution_count": 29,
      "outputs": [
        {
          "output_type": "execute_result",
          "data": {
            "text/plain": [
              "<Axes: xlabel='number_of_reservations', ylabel='month'>"
            ]
          },
          "metadata": {},
          "execution_count": 29
        },
        {
          "output_type": "display_data",
          "data": {
            "text/plain": [
              "<Figure size 1300x600 with 1 Axes>"
            ],
            "image/png": "[encoded data removed]"
          },
          "metadata": {}
        }
      ]
    },
    {
      "cell_type": "markdown",
      "source": [
        "The month of August is the busiest month as guests come to enjoy their summer vacation."
      ],
      "metadata": {
        "id": "tg27kG1w50yq"
      }
    },
    {
      "cell_type": "code",
      "source": [
        "df_JW = df[df['hotel'] == 'JW Marriott Hotel']\n",
        "df_Ren = df[df['hotel'] == 'Renaissance Hotel']\n",
        "df_adr_JW = df_JW.groupby(df['arrival_date_month'])[\"revenue\"].mean().reset_index()\n",
        "df_adr_Ren = df_Ren.groupby(df['arrival_date_month'])[\"revenue\"].mean().reset_index()\n",
        "df_adr_JW.sort_values(by='arrival_date_month', inplace=True)\n",
        "df_adr_Ren.sort_values(by='arrival_date_month', inplace=True)\n",
        "df_adr_JW['revenue'] = round(df_adr_JW['revenue'], 2)\n",
        "df_adr_Ren['revenue'] = round(df_adr_Ren['revenue'], 2)"
      ],
      "metadata": {
        "id": "tWOxU1rnYE8E",
        "colab": {
          "base_uri": "https://localhost:8080/"
        },
        "outputId": "3cbe03b8-9e5d-4fa0-966a-a4e8f02cc104"
      },
      "execution_count": 30,
      "outputs": [
        {
          "output_type": "stream",
          "name": "stderr",
          "text": [
            "<ipython-input-30-551c9bed085d>:3: FutureWarning: The default of observed=False is deprecated and will be changed to True in a future version of pandas. Pass observed=False to retain current behavior or observed=True to adopt the future default and silence this warning.\n",
            "  df_adr_JW = df_JW.groupby(df['arrival_date_month'])[\"revenue\"].mean().reset_index()\n",
            "<ipython-input-30-551c9bed085d>:4: FutureWarning: The default of observed=False is deprecated and will be changed to True in a future version of pandas. Pass observed=False to retain current behavior or observed=True to adopt the future default and silence this warning.\n",
            "  df_adr_Ren = df_Ren.groupby(df['arrival_date_month'])[\"revenue\"].mean().reset_index()\n"
          ]
        }
      ]
    },
    {
      "cell_type": "code",
      "source": [
        "plt.figure(figsize=(12, 6))\n",
        "sns.lineplot(x=\"arrival_date_month\", y=\"revenue\", data=df_adr_JW , marker='o',label='JW Marriott Hotel')\n",
        "sns.lineplot(x=\"arrival_date_month\", y=\"revenue\", data=df_adr_Ren , marker='o',label='Renaissance Hotel')\n",
        "plt.title('Average Revenue per Month')\n",
        "plt.xlabel('Month')\n",
        "plt.ylabel('Revenue')\n",
        "plt.legend()\n",
        "#plt.savefig('Average_Revenue_per_Month.png', dpi=300)\n",
        "plt.show()"
      ],
      "metadata": {
        "colab": {
          "base_uri": "https://localhost:8080/",
          "height": 564
        },
        "id": "knp7HssLlXIE",
        "outputId": "153a9030-c790-45cf-f203-ef474c0dfcda"
      },
      "execution_count": 31,
      "outputs": [
        {
          "output_type": "display_data",
          "data": {
            "text/plain": [
              "<Figure size 1200x600 with 1 Axes>"
            ],
            "image/png": "[encoded data removed]"
          },
          "metadata": {}
        }
      ]
    },
    {
      "cell_type": "markdown",
      "source": [
        "Revenue gradually increases for both hotels as we approach the summer season (from June to August) but during the summer season itself Renaissance Hotel achieves a much higher revenue then JW Marriot."
      ],
      "metadata": {
        "id": "raor_1jtt0o1"
      }
    },
    {
      "cell_type": "markdown",
      "source": [
        "analyzing the correlation matrix"
      ],
      "metadata": {
        "id": "1RK1ERvO7W0h"
      }
    },
    {
      "cell_type": "code",
      "source": [
        "numeric_cols = df.select_dtypes(include=['int64', 'float64']).columns\n",
        "corr = df[numeric_cols].corr()\n",
        "mask = np.triu(np.ones_like(corr, dtype=bool))\n",
        "f, ax = plt.subplots(figsize=(11, 9))\n",
        "cmap = sns.diverging_palette(230, 20, as_cmap=True)\n",
        "sns.heatmap(corr, mask=mask, cmap=cmap, vmax=.3, center=0,\n",
        "            square=True, linewidths=.5, cbar_kws={\"shrink\": .5})\n",
        "#plt.savefig('correlation-matrix-827c71.png', dpi=300, bbox_inches='tight')"
      ],
      "metadata": {
        "colab": {
          "base_uri": "https://localhost:8080/",
          "height": 973
        },
        "id": "VQz3Z5pIEG2c",
        "outputId": "4a72daf9-49ef-4bbf-88ef-25b8e92dd4d5"
      },
      "execution_count": 32,
      "outputs": [
        {
          "output_type": "execute_result",
          "data": {
            "text/plain": [
              "<Axes: >"
            ]
          },
          "metadata": {},
          "execution_count": 32
        },
        {
          "output_type": "display_data",
          "data": {
            "text/plain": [
              "<Figure size 1100x900 with 2 Axes>"
            ],
            "image/png": "[encoded data removed]"
          },
          "metadata": {}
        }
      ]
    },
    {
      "cell_type": "markdown",
      "source": [
        "It seems evident that 'children' and 'adults' are highly correlated with 'adr'. More intrestingly 'lead_time' is highly correlated with 'is_canceled' which suggests that the amount of lead time before the reservation directly impacts the chance that the guest cancels the reservation. let's explore this relationship further"
      ],
      "metadata": {
        "id": "dbZWGSNm_9Gl"
      }
    },
    {
      "cell_type": "code",
      "source": [
        "canceled_reservations = df[df['is_canceled'] == 1]\n",
        "plt.figure(figsize=(12, 6))\n",
        "sns.histplot(data = canceled_reservations , x='lead_time',bins=20 , kde=True)\n",
        "plt.xlabel('Lead Time')\n",
        "plt.ylabel('Count')\n",
        "plt.title('Distribution of Lead Time for Canceled Reservations')\n",
        "#plt.savefig('Distribution_of_Lead_Time_for_Canceled_Reservations.png', dpi=300)\n",
        "plt.show()"
      ],
      "metadata": {
        "colab": {
          "base_uri": "https://localhost:8080/",
          "height": 564
        },
        "id": "S6WHGNQEADnd",
        "outputId": "3f1aab0a-5987-4b89-8c6e-302d23c52f42"
      },
      "execution_count": 33,
      "outputs": [
        {
          "output_type": "display_data",
          "data": {
            "text/plain": [
              "<Figure size 1200x600 with 1 Axes>"
            ],
            "image/png": "[encoded data removed]"
          },
          "metadata": {}
        }
      ]
    },
    {
      "cell_type": "markdown",
      "source": [
        "the plot shows us that people who booked at an earlier date before check-in are less likely to cancel than people who booked 100 days or less before check-in"
      ],
      "metadata": {
        "id": "j1CPJzzQCM7D"
      }
    },
    {
      "cell_type": "markdown",
      "source": [
        "Now we want to answer the question , are guests who have a history of cancellations likely to cancel again?"
      ],
      "metadata": {
        "id": "tTNweKWWF0i-"
      }
    },
    {
      "cell_type": "code",
      "source": [
        "df_previous_cancellations = df[df['previous_cancellations'] > 0]\n",
        "df_no_cancellations = df[df['previous_cancellations'] == 0]\n",
        "plt.figure(figsize=(12, 6))\n",
        "sns.barplot(x=['YES', 'NO'], y=[df_previous_cancellations['is_canceled'].mean(), df_no_cancellations['is_canceled'].mean()] , palette=['red','blue'])\n",
        "plt.xlabel('Previous Cancellations')\n",
        "plt.ylabel('Cancellation R inate')\n",
        "plt.title('Cancellation Rate by Previous Cancellations')\n",
        "#plt.savefig('Cancellation_Rate_by_Previous_Cancellations.png', dpi=300, bbox_inches='tight')\n",
        "plt.show()"
      ],
      "metadata": {
        "colab": {
          "base_uri": "https://localhost:8080/",
          "height": 651
        },
        "id": "TfviELkmBD8y",
        "outputId": "040a68c6-24af-4630-a367-2082551cc7d1"
      },
      "execution_count": 34,
      "outputs": [
        {
          "output_type": "stream",
          "name": "stderr",
          "text": [
            "<ipython-input-34-858725285200>:4: FutureWarning: \n",
            "\n",
            "Passing `palette` without assigning `hue` is deprecated and will be removed in v0.14.0. Assign the `x` variable to `hue` and set `legend=False` for the same effect.\n",
            "\n",
            "  sns.barplot(x=['YES', 'NO'], y=[df_previous_cancellations['is_canceled'].mean(), df_no_cancellations['is_canceled'].mean()] , palette=['red','blue'])\n"
          ]
        },
        {
          "output_type": "display_data",
          "data": {
            "text/plain": [
              "<Figure size 1200x600 with 1 Axes>"
            ],
            "image/png": "[encoded data removed]"
          },
          "metadata": {}
        }
      ]
    },
    {
      "cell_type": "markdown",
      "source": [
        "as expected people who canceled a reseravtion before are much more likely to cancel another reservation"
      ],
      "metadata": {
        "id": "OKNWNAVuHGO4"
      }
    },
    {
      "cell_type": "code",
      "source": [
        "df_grouped = df.groupby('previous_cancellations')['is_canceled'].mean().reset_index()\n",
        "palette = sns.color_palette('flare', len(df_grouped['previous_cancellations'].unique()))\n",
        "plt.figure(figsize=(10, 6))\n",
        "plot = sns.barplot(x='previous_cancellations', y='is_canceled', data=df_grouped , palette=palette , hue='previous_cancellations')\n",
        "plot.legend_.remove()\n",
        "plt.title('Cancellation Probability vs. Previous Cancellations')\n",
        "plt.xlabel('Number of Previous Cancellations')\n",
        "plt.ylabel('Cancellation Probability')\n",
        "#plt.savefig('Cancellation_Rate_by_Previous_Cancellations.png', dpi=300, bbox_inches='tight')"
      ],
      "metadata": {
        "colab": {
          "base_uri": "https://localhost:8080/",
          "height": 581
        },
        "id": "-WK7JjLpyO9v",
        "outputId": "8f16746d-bb7f-47e3-b0d7-c451dd31c9fc"
      },
      "execution_count": 35,
      "outputs": [
        {
          "output_type": "execute_result",
          "data": {
            "text/plain": [
              "Text(0, 0.5, 'Cancellation Probability')"
            ]
          },
          "metadata": {},
          "execution_count": 35
        },
        {
          "output_type": "display_data",
          "data": {
            "text/plain": [
              "<Figure size 1000x600 with 1 Axes>"
            ],
            "image/png": "[encoded data removed]"
          },
          "metadata": {}
        }
      ]
    },
    {
      "cell_type": "markdown",
      "source": [
        "It appears that people who have cancelled 14 or more times before re almost certin to cancel their reservation again"
      ],
      "metadata": {
        "id": "kjHCV9kOvZH3"
      }
    },
    {
      "cell_type": "code",
      "source": [
        "df_repeated  = df[df['is_repeated_guest'] > 0]\n",
        "df_first = df[df['is_repeated_guest'] == 0]\n",
        "sns.barplot(x=['YES', 'NO'], y=[df_repeated['is_canceled'].mean(), df_first['is_canceled'].mean()] , palette=['blue','red'])\n",
        "plt.xlabel('Is a Repeated Guest')\n",
        "plt.ylabel('Cancellation Rate')\n",
        "plt.title('Cancellation Rate by Repeated Guests Vs First Time Guests')\n",
        "#plt.savefig('Cancellation_Rate_by_Repeated_Guests_Vs_First_Time_Guests.png', dpi=300, bbox_inches='tight')\n",
        "plt.show()"
      ],
      "metadata": {
        "colab": {
          "base_uri": "https://localhost:8080/",
          "height": 559
        },
        "id": "t0cI9IXrvKXG",
        "outputId": "43850049-2b37-40b6-b537-46a521990507"
      },
      "execution_count": 36,
      "outputs": [
        {
          "output_type": "stream",
          "name": "stderr",
          "text": [
            "<ipython-input-36-8fca30a46712>:3: FutureWarning: \n",
            "\n",
            "Passing `palette` without assigning `hue` is deprecated and will be removed in v0.14.0. Assign the `x` variable to `hue` and set `legend=False` for the same effect.\n",
            "\n",
            "  sns.barplot(x=['YES', 'NO'], y=[df_repeated['is_canceled'].mean(), df_first['is_canceled'].mean()] , palette=['blue','red'])\n"
          ]
        },
        {
          "output_type": "display_data",
          "data": {
            "text/plain": [
              "<Figure size 640x480 with 1 Axes>"
            ],
            "image/png": "[encoded data removed]"
          },
          "metadata": {}
        }
      ]
    },
    {
      "cell_type": "markdown",
      "source": [
        "it also seems like First time guests are more likely to cancel a reservation than repeated guests."
      ],
      "metadata": {
        "id": "UttNw643v2eV"
      }
    },
    {
      "cell_type": "code",
      "source": [
        "df_cust = df.groupby('customer_type')['is_canceled'].mean().reset_index()\n",
        "sns.barplot(x='customer_type', y='is_canceled', data=df_cust , palette=['blue','red','green','orange'] , hue = 'customer_type')\n",
        "plt.xlabel('Customer Type')\n",
        "plt.ylabel('Cancellation Rate')\n",
        "plt.title('Cancellation Rate by Customer Type')\n",
        "#plt.savefig('Cancellation_Rate_by_Customer_Type.png', dpi=300, bbox_inches='tight')\n",
        "plt.show()\n"
      ],
      "metadata": {
        "colab": {
          "base_uri": "https://localhost:8080/",
          "height": 472
        },
        "id": "kHI4Yja0HQow",
        "outputId": "23e763e3-a2dc-4b54-8625-3fdf6ba71e4c"
      },
      "execution_count": 37,
      "outputs": [
        {
          "output_type": "display_data",
          "data": {
            "text/plain": [
              "<Figure size 640x480 with 1 Axes>"
            ],
            "image/png": "[encoded data removed]"
          },
          "metadata": {}
        }
      ]
    },
    {
      "cell_type": "markdown",
      "source": [
        ",We can see that Transient guests are the most likely to cancel a reservation"
      ],
      "metadata": {
        "id": "v9kAA73E1GSK"
      }
    },
    {
      "cell_type": "code",
      "source": [
        "df_dist = df.groupby('distribution_channel')['is_canceled'].mean().reset_index()\n",
        "df_dist = df_dist[df_dist['distribution_channel']!= 'Undefined']\n",
        "sns.barplot(x='distribution_channel', y='is_canceled', data=df_dist , palette='hls' , hue = 'distribution_channel')\n",
        "plt.xlabel('Distribution Channel')\n",
        "plt.ylabel('Cancellation Rate')\n",
        "plt.title('Cancellation Rate by Distribution Channel')\n",
        "#plt.savefig('Cancellation_Rate_by_Distribution_Channel.png', dpi=300, bbox_inches='tight')\n",
        "plt.show()"
      ],
      "metadata": {
        "colab": {
          "base_uri": "https://localhost:8080/",
          "height": 472
        },
        "id": "PpwvGbx21NBX",
        "outputId": "6fef201b-5cdf-4a37-f2b1-08e9e9046273"
      },
      "execution_count": 38,
      "outputs": [
        {
          "output_type": "display_data",
          "data": {
            "text/plain": [
              "<Figure size 640x480 with 1 Axes>"
            ],
            "image/png": "[encoded data removed]"
          },
          "metadata": {}
        }
      ]
    },
    {
      "cell_type": "markdown",
      "source": [
        "Reservations made through  Travel Agents/Tour Operators are the most likely to be cancelled while reservations made directly with the hotel are the least likely to do so."
      ],
      "metadata": {
        "id": "glriAIAnzm9f"
      }
    },
    {
      "cell_type": "code",
      "source": [
        "df_dep = df.groupby('deposit_type')['is_canceled'].mean().reset_index()\n",
        "sns.barplot(x='deposit_type', y='is_canceled', data=df_dep , palette=['blue' , 'red','blue'] , hue = 'deposit_type')\n",
        "plt.xlabel('Deposit Type')\n",
        "plt.ylabel('Cancellation Rate')\n",
        "plt.title('Cancellation Rate by Deposit Type')\n",
        "#plt.savefig('Cancellation_Rate_by_Deposit_Type.png', dpi=300, bbox_inches='tight')\n",
        "plt.show()"
      ],
      "metadata": {
        "colab": {
          "base_uri": "https://localhost:8080/",
          "height": 472
        },
        "id": "DAiXgZYRxXDQ",
        "outputId": "3bae5dda-0aa4-479d-b9fc-541f140b8b2a"
      },
      "execution_count": 39,
      "outputs": [
        {
          "output_type": "display_data",
          "data": {
            "text/plain": [
              "<Figure size 640x480 with 1 Axes>"
            ],
            "image/png": "[encoded data removed]"
          },
          "metadata": {}
        }
      ]
    },
    {
      "cell_type": "markdown",
      "source": [
        "There is a very strange pattern here were guests with deposit type \"Non Refund\" are the most likely to cancel !."
      ],
      "metadata": {
        "id": "vMkd8VxCAjVD"
      }
    },
    {
      "cell_type": "markdown",
      "source": [
        "lets see the meal each distribution channel books the most"
      ],
      "metadata": {
        "id": "OmCqn6ef955y"
      }
    },
    {
      "cell_type": "code",
      "source": [
        "df_meal = df.groupby(['customer_type', 'meal']).size().reset_index()\n",
        "df_meal = df_meal[(df_meal['meal']!='Undefined')]\n",
        "max_values = df_meal.loc[df_meal.groupby('customer_type')['meal'].idxmax()]\n",
        "max_values.columns = ['customer_type','meal','frequency']\n",
        "max_values"
      ],
      "metadata": {
        "colab": {
          "base_uri": "https://localhost:8080/",
          "height": 175
        },
        "id": "S-QtDz3A9-cM",
        "outputId": "9c3df610-bf97-4438-d068-f1b8ec915f53"
      },
      "execution_count": 40,
      "outputs": [
        {
          "output_type": "execute_result",
          "data": {
            "text/plain": [
              "      customer_type meal  frequency\n",
              "3          Contract   SC        183\n",
              "8             Group   SC         38\n",
              "13        Transient   SC       9940\n",
              "18  Transient-Party   SC        451"
            ],
            "text/html": [
              "\n",
              "  <div id=\"df-d4830175-5aef-41a2-be53-80892876ac16\" class=\"colab-df-container\">\n",
              "    <div>\n",
              "<style scoped>\n",
              "    .dataframe tbody tr th:only-of-type {\n",
              "        vertical-align: middle;\n",
              "    }\n",
              "\n",
              "    .dataframe tbody tr th {\n",
              "        vertical-align: top;\n",
              "    }\n",
              "\n",
              "    .dataframe thead th {\n",
              "        text-align: right;\n",
              "    }\n",
              "</style>\n",
              "<table border=\"1\" class=\"dataframe\">\n",
              "  <thead>\n",
              "    <tr style=\"text-align: right;\">\n",
              "      <th></th>\n",
              "      <th>customer_type</th>\n",
              "      <th>meal</th>\n",
              "      <th>frequency</th>\n",
              "    </tr>\n",
              "  </thead>\n",
              "  <tbody>\n",
              "    <tr>\n",
              "      <th>3</th>\n",
              "      <td>Contract</td>\n",
              "      <td>SC</td>\n",
              "      <td>183</td>\n",
              "    </tr>\n",
              "    <tr>\n",
              "      <th>8</th>\n",
              "      <td>Group</td>\n",
              "      <td>SC</td>\n",
              "      <td>38</td>\n",
              "    </tr>\n",
              "    <tr>\n",
              "      <th>13</th>\n",
              "      <td>Transient</td>\n",
              "      <td>SC</td>\n",
              "      <td>9940</td>\n",
              "    </tr>\n",
              "    <tr>\n",
              "      <th>18</th>\n",
              "      <td>Transient-Party</td>\n",
              "      <td>SC</td>\n",
              "      <td>451</td>\n",
              "    </tr>\n",
              "  </tbody>\n",
              "</table>\n",
              "</div>\n",
              "    <div class=\"colab-df-buttons\">\n",
              "\n",
              "  <div class=\"colab-df-container\">\n",
              "    <button class=\"colab-df-convert\" onclick=\"convertToInteractive('df-d4830175-5aef-41a2-be53-80892876ac16')\"\n",
              "            title=\"Convert this dataframe to an interactive table.\"\n",
              "            style=\"display:none;\">\n",
              "\n",
              "  <svg xmlns=\"http://www.w3.org/2000/svg\" height=\"24px\" viewBox=\"0 -960 960 960\">\n",
              "    <path d=\"M120-120v-720h720v720H120Zm60-500h600v-160H180v160Zm220 220h160v-160H400v160Zm0 220h160v-160H400v160ZM180-400h160v-160H180v160Zm440 0h160v-160H620v160ZM180-180h160v-160H180v160Zm440 0h160v-160H620v160Z\"/>\n",
              "  </svg>\n",
              "    </button>\n",
              "\n",
              "  <style>\n",
              "    .colab-df-container {\n",
              "      display:flex;\n",
              "      gap: 12px;\n",
              "    }\n",
              "\n",
              "    .colab-df-convert {\n",
              "      background-color: #E8F0FE;\n",
              "      border: none;\n",
              "      border-radius: 50%;\n",
              "      cursor: pointer;\n",
              "      display: none;\n",
              "      fill: #1967D2;\n",
              "      height: 32px;\n",
              "      padding: 0 0 0 0;\n",
              "      width: 32px;\n",
              "    }\n",
              "\n",
              "    .colab-df-convert:hover {\n",
              "      background-color: #E2EBFA;\n",
              "      box-shadow: 0px 1px 2px rgba(60, 64, 67, 0.3), 0px 1px 3px 1px rgba(60, 64, 67, 0.15);\n",
              "      fill: #174EA6;\n",
              "    }\n",
              "\n",
              "    .colab-df-buttons div {\n",
              "      margin-bottom: 4px;\n",
              "    }\n",
              "\n",
              "    [theme=dark] .colab-df-convert {\n",
              "      background-color: #3B4455;\n",
              "      fill: #D2E3FC;\n",
              "    }\n",
              "\n",
              "    [theme=dark] .colab-df-convert:hover {\n",
              "      background-color: #434B5C;\n",
              "      box-shadow: 0px 1px 3px 1px rgba(0, 0, 0, 0.15);\n",
              "      filter: drop-shadow(0px 1px 2px rgba(0, 0, 0, 0.3));\n",
              "      fill: #FFFFFF;\n",
              "    }\n",
              "  </style>\n",
              "\n",
              "    <script>\n",
              "      const buttonEl =\n",
              "        document.querySelector('#df-d4830175-5aef-41a2-be53-80892876ac16 button.colab-df-convert');\n",
              "      buttonEl.style.display =\n",
              "        google.colab.kernel.accessAllowed ? 'block' : 'none';\n",
              "\n",
              "      async function convertToInteractive(key) {\n",
              "        const element = document.querySelector('#df-d4830175-5aef-41a2-be53-80892876ac16');\n",
              "        const dataTable =\n",
              "          await google.colab.kernel.invokeFunction('convertToInteractive',\n",
              "                                                    [key], {});\n",
              "        if (!dataTable) return;\n",
              "\n",
              "        const docLinkHtml = 'Like what you see? Visit the ' +\n",
              "          '<a target=\"_blank\" href=https://colab.research.google.com/notebooks/data_table.ipynb>data table notebook</a>'\n",
              "          + ' to learn more about interactive tables.';\n",
              "        element.innerHTML = '';\n",
              "        dataTable['output_type'] = 'display_data';\n",
              "        await google.colab.output.renderOutput(dataTable, element);\n",
              "        const docLink = document.createElement('div');\n",
              "        docLink.innerHTML = docLinkHtml;\n",
              "        element.appendChild(docLink);\n",
              "      }\n",
              "    </script>\n",
              "  </div>\n",
              "\n",
              "\n",
              "<div id=\"df-cb4fe854-ba11-4548-aaac-7e0e96d329a5\">\n",
              "  <button class=\"colab-df-quickchart\" onclick=\"quickchart('df-cb4fe854-ba11-4548-aaac-7e0e96d329a5')\"\n",
              "            title=\"Suggest charts\"\n",
              "            style=\"display:none;\">\n",
              "\n",
              "<svg xmlns=\"http://www.w3.org/2000/svg\" height=\"24px\"viewBox=\"0 0 24 24\"\n",
              "     width=\"24px\">\n",
              "    <g>\n",
              "        <path d=\"M19 3H5c-1.1 0-2 .9-2 2v14c0 1.1.9 2 2 2h14c1.1 0 2-.9 2-2V5c0-1.1-.9-2-2-2zM9 17H7v-7h2v7zm4 0h-2V7h2v10zm4 0h-2v-4h2v4z\"/>\n",
              "    </g>\n",
              "</svg>\n",
              "  </button>\n",
              "\n",
              "<style>\n",
              "  .colab-df-quickchart {\n",
              "      --bg-color: #E8F0FE;\n",
              "      --fill-color: #1967D2;\n",
              "      --hover-bg-color: #E2EBFA;\n",
              "      --hover-fill-color: #174EA6;\n",
              "      --disabled-fill-color: #AAA;\n",
              "      --disabled-bg-color: #DDD;\n",
              "  }\n",
              "\n",
              "  [theme=dark] .colab-df-quickchart {\n",
              "      --bg-color: #3B4455;\n",
              "      --fill-color: #D2E3FC;\n",
              "      --hover-bg-color: #434B5C;\n",
              "      --hover-fill-color: #FFFFFF;\n",
              "      --disabled-bg-color: #3B4455;\n",
              "      --disabled-fill-color: #666;\n",
              "  }\n",
              "\n",
              "  .colab-df-quickchart {\n",
              "    background-color: var(--bg-color);\n",
              "    border: none;\n",
              "    border-radius: 50%;\n",
              "    cursor: pointer;\n",
              "    display: none;\n",
              "    fill: var(--fill-color);\n",
              "    height: 32px;\n",
              "    padding: 0;\n",
              "    width: 32px;\n",
              "  }\n",
              "\n",
              "  .colab-df-quickchart:hover {\n",
              "    background-color: var(--hover-bg-color);\n",
              "    box-shadow: 0 1px 2px rgba(60, 64, 67, 0.3), 0 1px 3px 1px rgba(60, 64, 67, 0.15);\n",
              "    fill: var(--button-hover-fill-color);\n",
              "  }\n",
              "\n",
              "  .colab-df-quickchart-complete:disabled,\n",
              "  .colab-df-quickchart-complete:disabled:hover {\n",
              "    background-color: var(--disabled-bg-color);\n",
              "    fill: var(--disabled-fill-color);\n",
              "    box-shadow: none;\n",
              "  }\n",
              "\n",
              "  .colab-df-spinner {\n",
              "    border: 2px solid var(--fill-color);\n",
              "    border-color: transparent;\n",
              "    border-bottom-color: var(--fill-color);\n",
              "    animation:\n",
              "      spin 1s steps(1) infinite;\n",
              "  }\n",
              "\n",
              "  @keyframes spin {\n",
              "    0% {\n",
              "      border-color: transparent;\n",
              "      border-bottom-color: var(--fill-color);\n",
              "      border-left-color: var(--fill-color);\n",
              "    }\n",
              "    20% {\n",
              "      border-color: transparent;\n",
              "      border-left-color: var(--fill-color);\n",
              "      border-top-color: var(--fill-color);\n",
              "    }\n",
              "    30% {\n",
              "      border-color: transparent;\n",
              "      border-left-color: var(--fill-color);\n",
              "      border-top-color: var(--fill-color);\n",
              "      border-right-color: var(--fill-color);\n",
              "    }\n",
              "    40% {\n",
              "      border-color: transparent;\n",
              "      border-right-color: var(--fill-color);\n",
              "      border-top-color: var(--fill-color);\n",
              "    }\n",
              "    60% {\n",
              "      border-color: transparent;\n",
              "      border-right-color: var(--fill-color);\n",
              "    }\n",
              "    80% {\n",
              "      border-color: transparent;\n",
              "      border-right-color: var(--fill-color);\n",
              "      border-bottom-color: var(--fill-color);\n",
              "    }\n",
              "    90% {\n",
              "      border-color: transparent;\n",
              "      border-bottom-color: var(--fill-color);\n",
              "    }\n",
              "  }\n",
              "</style>\n",
              "\n",
              "  <script>\n",
              "    async function quickchart(key) {\n",
              "      const quickchartButtonEl =\n",
              "        document.querySelector('#' + key + ' button');\n",
              "      quickchartButtonEl.disabled = true;  // To prevent multiple clicks.\n",
              "      quickchartButtonEl.classList.add('colab-df-spinner');\n",
              "      try {\n",
              "        const charts = await google.colab.kernel.invokeFunction(\n",
              "            'suggestCharts', [key], {});\n",
              "      } catch (error) {\n",
              "        console.error('Error during call to suggestCharts:', error);\n",
              "      }\n",
              "      quickchartButtonEl.classList.remove('colab-df-spinner');\n",
              "      quickchartButtonEl.classList.add('colab-df-quickchart-complete');\n",
              "    }\n",
              "    (() => {\n",
              "      let quickchartButtonEl =\n",
              "        document.querySelector('#df-cb4fe854-ba11-4548-aaac-7e0e96d329a5 button');\n",
              "      quickchartButtonEl.style.display =\n",
              "        google.colab.kernel.accessAllowed ? 'block' : 'none';\n",
              "    })();\n",
              "  </script>\n",
              "</div>\n",
              "\n",
              "  <div id=\"id_2bff18d6-32e3-4ea4-aa65-1f9dafdec390\">\n",
              "    <style>\n",
              "      .colab-df-generate {\n",
              "        background-color: #E8F0FE;\n",
              "        border: none;\n",
              "        border-radius: 50%;\n",
              "        cursor: pointer;\n",
              "        display: none;\n",
              "        fill: #1967D2;\n",
              "        height: 32px;\n",
              "        padding: 0 0 0 0;\n",
              "        width: 32px;\n",
              "      }\n",
              "\n",
              "      .colab-df-generate:hover {\n",
              "        background-color: #E2EBFA;\n",
              "        box-shadow: 0px 1px 2px rgba(60, 64, 67, 0.3), 0px 1px 3px 1px rgba(60, 64, 67, 0.15);\n",
              "        fill: #174EA6;\n",
              "      }\n",
              "\n",
              "      [theme=dark] .colab-df-generate {\n",
              "        background-color: #3B4455;\n",
              "        fill: #D2E3FC;\n",
              "      }\n",
              "\n",
              "      [theme=dark] .colab-df-generate:hover {\n",
              "        background-color: #434B5C;\n",
              "        box-shadow: 0px 1px 3px 1px rgba(0, 0, 0, 0.15);\n",
              "        filter: drop-shadow(0px 1px 2px rgba(0, 0, 0, 0.3));\n",
              "        fill: #FFFFFF;\n",
              "      }\n",
              "    </style>\n",
              "    <button class=\"colab-df-generate\" onclick=\"generateWithVariable('max_values')\"\n",
              "            title=\"Generate code using this dataframe.\"\n",
              "            style=\"display:none;\">\n",
              "\n",
              "  <svg xmlns=\"http://www.w3.org/2000/svg\" height=\"24px\"viewBox=\"0 0 24 24\"\n",
              "       width=\"24px\">\n",
              "    <path d=\"M7,19H8.4L18.45,9,17,7.55,7,17.6ZM5,21V16.75L18.45,3.32a2,2,0,0,1,2.83,0l1.4,1.43a1.91,1.91,0,0,1,.58,1.4,1.91,1.91,0,0,1-.58,1.4L9.25,21ZM18.45,9,17,7.55Zm-12,3A5.31,5.31,0,0,0,4.9,8.1,5.31,5.31,0,0,0,1,6.5,5.31,5.31,0,0,0,4.9,4.9,5.31,5.31,0,0,0,6.5,1,5.31,5.31,0,0,0,8.1,4.9,5.31,5.31,0,0,0,12,6.5,5.46,5.46,0,0,0,6.5,12Z\"/>\n",
              "  </svg>\n",
              "    </button>\n",
              "    <script>\n",
              "      (() => {\n",
              "      const buttonEl =\n",
              "        document.querySelector('#id_2bff18d6-32e3-4ea4-aa65-1f9dafdec390 button.colab-df-generate');\n",
              "      buttonEl.style.display =\n",
              "        google.colab.kernel.accessAllowed ? 'block' : 'none';\n",
              "\n",
              "      buttonEl.onclick = () => {\n",
              "        google.colab.notebook.generateWithVariable('max_values');\n",
              "      }\n",
              "      })();\n",
              "    </script>\n",
              "  </div>\n",
              "\n",
              "    </div>\n",
              "  </div>\n"
            ],
            "application/vnd.google.colaboratory.intrinsic+json": {
              "type": "dataframe",
              "variable_name": "max_values",
              "summary": "{\n  \"name\": \"max_values\",\n  \"rows\": 4,\n  \"fields\": [\n    {\n      \"column\": \"customer_type\",\n      \"properties\": {\n        \"dtype\": \"string\",\n        \"num_unique_values\": 4,\n        \"samples\": [\n          \"Group\",\n          \"Transient-Party\",\n          \"Contract\"\n        ],\n        \"semantic_type\": \"\",\n        \"description\": \"\"\n      }\n    },\n    {\n      \"column\": \"meal\",\n      \"properties\": {\n        \"dtype\": \"category\",\n        \"num_unique_values\": 1,\n        \"samples\": [\n          \"SC\"\n        ],\n        \"semantic_type\": \"\",\n        \"description\": \"\"\n      }\n    },\n    {\n      \"column\": \"frequency\",\n      \"properties\": {\n        \"dtype\": \"number\",\n        \"std\": 4861,\n        \"min\": 38,\n        \"max\": 9940,\n        \"num_unique_values\": 4,\n        \"samples\": [\n          38\n        ],\n        \"semantic_type\": \"\",\n        \"description\": \"\"\n      }\n    }\n  ]\n}"
            }
          },
          "metadata": {},
          "execution_count": 40
        }
      ]
    },
    {
      "cell_type": "markdown",
      "source": [
        "Seems like there is a consensus on choosing self catring as it is the most popular choice for all customer types."
      ],
      "metadata": {
        "id": "LkwzunB4BHj-"
      }
    },
    {
      "cell_type": "markdown",
      "source": [
        "#Predictive Model Building"
      ],
      "metadata": {
        "id": "migmfkqGFNnJ"
      }
    },
    {
      "cell_type": "markdown",
      "source": [
        "Dropping Unneeded columns"
      ],
      "metadata": {
        "id": "WvXEbf5QLrqk"
      }
    },
    {
      "cell_type": "code",
      "source": [
        "cl = ['arrival_date_year','arrival_date_day_of_month', 'children', 'meal', 'agent', 'days_in_waiting_list', 'required_car_parking_spaces','revenue','country']\n",
        "df_cleaned = df.drop(columns =cl)"
      ],
      "metadata": {
        "id": "LsNh8eTiFVOj"
      },
      "execution_count": 41,
      "outputs": []
    },
    {
      "cell_type": "code",
      "source": [
        "df_cleaned.columns"
      ],
      "metadata": {
        "colab": {
          "base_uri": "https://localhost:8080/"
        },
        "id": "OX2LIPW5Fd3X",
        "outputId": "6ab07a17-5ff3-4ab7-8597-5388453d063f"
      },
      "execution_count": 42,
      "outputs": [
        {
          "output_type": "execute_result",
          "data": {
            "text/plain": [
              "Index(['hotel', 'is_canceled', 'lead_time', 'arrival_date_month',\n",
              "       'stays_in_weekend_nights', 'stays_in_week_nights', 'adults',\n",
              "       'distribution_channel', 'is_repeated_guest', 'previous_cancellations',\n",
              "       'previous_bookings_not_canceled', 'reserved_room_type',\n",
              "       'assigned_room_type', 'booking_changes', 'deposit_type',\n",
              "       'customer_type', 'adr', 'total_of_special_requests'],\n",
              "      dtype='object')"
            ]
          },
          "metadata": {},
          "execution_count": 42
        }
      ]
    },
    {
      "cell_type": "code",
      "source": [
        "y = df_cleaned['is_canceled']\n",
        "X = df_cleaned.drop(columns = 'is_canceled')"
      ],
      "metadata": {
        "id": "ga0PG-XVF8T6"
      },
      "execution_count": 43,
      "outputs": []
    },
    {
      "cell_type": "markdown",
      "source": [
        "Transforming categorial features"
      ],
      "metadata": {
        "id": "wxRNtDMkLuoM"
      }
    },
    {
      "cell_type": "code",
      "source": [
        "le = LabelEncoder()\n",
        "for column in X.columns:\n",
        "    if X[column].dtype == 'object' or column == 'arrival_date_month':\n",
        "        X[column] = le.fit_transform(X[column])"
      ],
      "metadata": {
        "id": "Le992eE7Puml"
      },
      "execution_count": 44,
      "outputs": []
    },
    {
      "cell_type": "code",
      "source": [
        "X.shape"
      ],
      "metadata": {
        "colab": {
          "base_uri": "https://localhost:8080/"
        },
        "id": "OJ-FPTSFIm5a",
        "outputId": "3b664845-4d14-4feb-af47-bab53517026a"
      },
      "execution_count": 45,
      "outputs": [
        {
          "output_type": "execute_result",
          "data": {
            "text/plain": [
              "(114667, 17)"
            ]
          },
          "metadata": {},
          "execution_count": 45
        }
      ]
    },
    {
      "cell_type": "code",
      "source": [
        "X"
      ],
      "metadata": {
        "colab": {
          "base_uri": "https://localhost:8080/",
          "height": 444
        },
        "id": "twQRGq3AQFW8",
        "outputId": "b7ad5f58-91a5-406f-997a-f612ccd8055e"
      },
      "execution_count": 46,
      "outputs": [
        {
          "output_type": "execute_result",
          "data": {
            "text/plain": [
              "        hotel  lead_time  arrival_date_month  stays_in_weekend_nights  \\\n",
              "0           1        342                   5                        0   \n",
              "2           1          7                   5                        0   \n",
              "3           1         13                   5                        0   \n",
              "4           1         14                   5                        0   \n",
              "5           1         14                   5                        0   \n",
              "...       ...        ...                 ...                      ...   \n",
              "119383      0        164                   1                        2   \n",
              "119386      0        102                   1                        2   \n",
              "119387      0         34                   1                        2   \n",
              "119388      0        109                   1                        2   \n",
              "119389      0        205                   1                        2   \n",
              "\n",
              "        stays_in_week_nights  adults  distribution_channel  is_repeated_guest  \\\n",
              "0                          0       2                     1                  0   \n",
              "2                          1       1                     1                  0   \n",
              "3                          1       1                     0                  0   \n",
              "4                          2       2                     3                  0   \n",
              "5                          2       2                     3                  0   \n",
              "...                      ...     ...                   ...                ...   \n",
              "119383                     4       2                     3                  0   \n",
              "119386                     5       3                     3                  0   \n",
              "119387                     5       2                     3                  0   \n",
              "119388                     5       2                     3                  0   \n",
              "119389                     7       2                     3                  0   \n",
              "\n",
              "        previous_cancellations  previous_bookings_not_canceled  \\\n",
              "0                            0                               0   \n",
              "2                            0                               0   \n",
              "3                            0                               0   \n",
              "4                            0                               0   \n",
              "5                            0                               0   \n",
              "...                        ...                             ...   \n",
              "119383                       0                               0   \n",
              "119386                       0                               0   \n",
              "119387                       0                               0   \n",
              "119388                       0                               0   \n",
              "119389                       0                               0   \n",
              "\n",
              "        reserved_room_type  assigned_room_type  booking_changes  deposit_type  \\\n",
              "0                        2                   2                3             0   \n",
              "2                        0                   2                0             0   \n",
              "3                        0                   0                0             0   \n",
              "4                        0                   0                0             0   \n",
              "5                        0                   0                0             0   \n",
              "...                    ...                 ...              ...           ...   \n",
              "119383                   0                   0                0             0   \n",
              "119386                   4                   4                0             0   \n",
              "119387                   3                   3                0             0   \n",
              "119388                   0                   0                0             0   \n",
              "119389                   0                   0                0             0   \n",
              "\n",
              "        customer_type     adr  total_of_special_requests  \n",
              "0                   2    0.00                          0  \n",
              "2                   2   75.00                          0  \n",
              "3                   2   75.00                          0  \n",
              "4                   2   98.00                          1  \n",
              "5                   2   98.00                          1  \n",
              "...               ...     ...                        ...  \n",
              "119383              2   87.60                          0  \n",
              "119386              2  225.43                          2  \n",
              "119387              2  157.71                          4  \n",
              "119388              2  104.40                          0  \n",
              "119389              2  151.20                          2  \n",
              "\n",
              "[114667 rows x 17 columns]"
            ],
            "text/html": [
              "\n",
              "  <div id=\"df-58bef3c6-6fbb-432f-b386-7d3dc857ee79\" class=\"colab-df-container\">\n",
              "    <div>\n",
              "<style scoped>\n",
              "    .dataframe tbody tr th:only-of-type {\n",
              "        vertical-align: middle;\n",
              "    }\n",
              "\n",
              "    .dataframe tbody tr th {\n",
              "        vertical-align: top;\n",
              "    }\n",
              "\n",
              "    .dataframe thead th {\n",
              "        text-align: right;\n",
              "    }\n",
              "</style>\n",
              "<table border=\"1\" class=\"dataframe\">\n",
              "  <thead>\n",
              "    <tr style=\"text-align: right;\">\n",
              "      <th></th>\n",
              "      <th>hotel</th>\n",
              "      <th>lead_time</th>\n",
              "      <th>arrival_date_month</th>\n",
              "      <th>stays_in_weekend_nights</th>\n",
              "      <th>stays_in_week_nights</th>\n",
              "      <th>adults</th>\n",
              "      <th>distribution_channel</th>\n",
              "      <th>is_repeated_guest</th>\n",
              "      <th>previous_cancellations</th>\n",
              "      <th>previous_bookings_not_canceled</th>\n",
              "      <th>reserved_room_type</th>\n",
              "      <th>assigned_room_type</th>\n",
              "      <th>booking_changes</th>\n",
              "      <th>deposit_type</th>\n",
              "      <th>customer_type</th>\n",
              "      <th>adr</th>\n",
              "      <th>total_of_special_requests</th>\n",
              "    </tr>\n",
              "  </thead>\n",
              "  <tbody>\n",
              "    <tr>\n",
              "      <th>0</th>\n",
              "      <td>1</td>\n",
              "      <td>342</td>\n",
              "      <td>5</td>\n",
              "      <td>0</td>\n",
              "      <td>0</td>\n",
              "      <td>2</td>\n",
              "      <td>1</td>\n",
              "      <td>0</td>\n",
              "      <td>0</td>\n",
              "      <td>0</td>\n",
              "      <td>2</td>\n",
              "      <td>2</td>\n",
              "      <td>3</td>\n",
              "      <td>0</td>\n",
              "      <td>2</td>\n",
              "      <td>0.00</td>\n",
              "      <td>0</td>\n",
              "    </tr>\n",
              "    <tr>\n",
              "      <th>2</th>\n",
              "      <td>1</td>\n",
              "      <td>7</td>\n",
              "      <td>5</td>\n",
              "      <td>0</td>\n",
              "      <td>1</td>\n",
              "      <td>1</td>\n",
              "      <td>1</td>\n",
              "      <td>0</td>\n",
              "      <td>0</td>\n",
              "      <td>0</td>\n",
              "      <td>0</td>\n",
              "      <td>2</td>\n",
              "      <td>0</td>\n",
              "      <td>0</td>\n",
              "      <td>2</td>\n",
              "      <td>75.00</td>\n",
              "      <td>0</td>\n",
              "    </tr>\n",
              "    <tr>\n",
              "      <th>3</th>\n",
              "      <td>1</td>\n",
              "      <td>13</td>\n",
              "      <td>5</td>\n",
              "      <td>0</td>\n",
              "      <td>1</td>\n",
              "      <td>1</td>\n",
              "      <td>0</td>\n",
              "      <td>0</td>\n",
              "      <td>0</td>\n",
              "      <td>0</td>\n",
              "      <td>0</td>\n",
              "      <td>0</td>\n",
              "      <td>0</td>\n",
              "      <td>0</td>\n",
              "      <td>2</td>\n",
              "      <td>75.00</td>\n",
              "      <td>0</td>\n",
              "    </tr>\n",
              "    <tr>\n",
              "      <th>4</th>\n",
              "      <td>1</td>\n",
              "      <td>14</td>\n",
              "      <td>5</td>\n",
              "      <td>0</td>\n",
              "      <td>2</td>\n",
              "      <td>2</td>\n",
              "      <td>3</td>\n",
              "      <td>0</td>\n",
              "      <td>0</td>\n",
              "      <td>0</td>\n",
              "      <td>0</td>\n",
              "      <td>0</td>\n",
              "      <td>0</td>\n",
              "      <td>0</td>\n",
              "      <td>2</td>\n",
              "      <td>98.00</td>\n",
              "      <td>1</td>\n",
              "    </tr>\n",
              "    <tr>\n",
              "      <th>5</th>\n",
              "      <td>1</td>\n",
              "      <td>14</td>\n",
              "      <td>5</td>\n",
              "      <td>0</td>\n",
              "      <td>2</td>\n",
              "      <td>2</td>\n",
              "      <td>3</td>\n",
              "      <td>0</td>\n",
              "      <td>0</td>\n",
              "      <td>0</td>\n",
              "      <td>0</td>\n",
              "      <td>0</td>\n",
              "      <td>0</td>\n",
              "      <td>0</td>\n",
              "      <td>2</td>\n",
              "      <td>98.00</td>\n",
              "      <td>1</td>\n",
              "    </tr>\n",
              "    <tr>\n",
              "      <th>...</th>\n",
              "      <td>...</td>\n",
              "      <td>...</td>\n",
              "      <td>...</td>\n",
              "      <td>...</td>\n",
              "      <td>...</td>\n",
              "      <td>...</td>\n",
              "      <td>...</td>\n",
              "      <td>...</td>\n",
              "      <td>...</td>\n",
              "      <td>...</td>\n",
              "      <td>...</td>\n",
              "      <td>...</td>\n",
              "      <td>...</td>\n",
              "      <td>...</td>\n",
              "      <td>...</td>\n",
              "      <td>...</td>\n",
              "      <td>...</td>\n",
              "    </tr>\n",
              "    <tr>\n",
              "      <th>119383</th>\n",
              "      <td>0</td>\n",
              "      <td>164</td>\n",
              "      <td>1</td>\n",
              "      <td>2</td>\n",
              "      <td>4</td>\n",
              "      <td>2</td>\n",
              "      <td>3</td>\n",
              "      <td>0</td>\n",
              "      <td>0</td>\n",
              "      <td>0</td>\n",
              "      <td>0</td>\n",
              "      <td>0</td>\n",
              "      <td>0</td>\n",
              "      <td>0</td>\n",
              "      <td>2</td>\n",
              "      <td>87.60</td>\n",
              "      <td>0</td>\n",
              "    </tr>\n",
              "    <tr>\n",
              "      <th>119386</th>\n",
              "      <td>0</td>\n",
              "      <td>102</td>\n",
              "      <td>1</td>\n",
              "      <td>2</td>\n",
              "      <td>5</td>\n",
              "      <td>3</td>\n",
              "      <td>3</td>\n",
              "      <td>0</td>\n",
              "      <td>0</td>\n",
              "      <td>0</td>\n",
              "      <td>4</td>\n",
              "      <td>4</td>\n",
              "      <td>0</td>\n",
              "      <td>0</td>\n",
              "      <td>2</td>\n",
              "      <td>225.43</td>\n",
              "      <td>2</td>\n",
              "    </tr>\n",
              "    <tr>\n",
              "      <th>119387</th>\n",
              "      <td>0</td>\n",
              "      <td>34</td>\n",
              "      <td>1</td>\n",
              "      <td>2</td>\n",
              "      <td>5</td>\n",
              "      <td>2</td>\n",
              "      <td>3</td>\n",
              "      <td>0</td>\n",
              "      <td>0</td>\n",
              "      <td>0</td>\n",
              "      <td>3</td>\n",
              "      <td>3</td>\n",
              "      <td>0</td>\n",
              "      <td>0</td>\n",
              "      <td>2</td>\n",
              "      <td>157.71</td>\n",
              "      <td>4</td>\n",
              "    </tr>\n",
              "    <tr>\n",
              "      <th>119388</th>\n",
              "      <td>0</td>\n",
              "      <td>109</td>\n",
              "      <td>1</td>\n",
              "      <td>2</td>\n",
              "      <td>5</td>\n",
              "      <td>2</td>\n",
              "      <td>3</td>\n",
              "      <td>0</td>\n",
              "      <td>0</td>\n",
              "      <td>0</td>\n",
              "      <td>0</td>\n",
              "      <td>0</td>\n",
              "      <td>0</td>\n",
              "      <td>0</td>\n",
              "      <td>2</td>\n",
              "      <td>104.40</td>\n",
              "      <td>0</td>\n",
              "    </tr>\n",
              "    <tr>\n",
              "      <th>119389</th>\n",
              "      <td>0</td>\n",
              "      <td>205</td>\n",
              "      <td>1</td>\n",
              "      <td>2</td>\n",
              "      <td>7</td>\n",
              "      <td>2</td>\n",
              "      <td>3</td>\n",
              "      <td>0</td>\n",
              "      <td>0</td>\n",
              "      <td>0</td>\n",
              "      <td>0</td>\n",
              "      <td>0</td>\n",
              "      <td>0</td>\n",
              "      <td>0</td>\n",
              "      <td>2</td>\n",
              "      <td>151.20</td>\n",
              "      <td>2</td>\n",
              "    </tr>\n",
              "  </tbody>\n",
              "</table>\n",
              "<p>114667 rows × 17 columns</p>\n",
              "</div>\n",
              "    <div class=\"colab-df-buttons\">\n",
              "\n",
              "  <div class=\"colab-df-container\">\n",
              "    <button class=\"colab-df-convert\" onclick=\"convertToInteractive('df-58bef3c6-6fbb-432f-b386-7d3dc857ee79')\"\n",
              "            title=\"Convert this dataframe to an interactive table.\"\n",
              "            style=\"display:none;\">\n",
              "\n",
              "  <svg xmlns=\"http://www.w3.org/2000/svg\" height=\"24px\" viewBox=\"0 -960 960 960\">\n",
              "    <path d=\"M120-120v-720h720v720H120Zm60-500h600v-160H180v160Zm220 220h160v-160H400v160Zm0 220h160v-160H400v160ZM180-400h160v-160H180v160Zm440 0h160v-160H620v160ZM180-180h160v-160H180v160Zm440 0h160v-160H620v160Z\"/>\n",
              "  </svg>\n",
              "    </button>\n",
              "\n",
              "  <style>\n",
              "    .colab-df-container {\n",
              "      display:flex;\n",
              "      gap: 12px;\n",
              "    }\n",
              "\n",
              "    .colab-df-convert {\n",
              "      background-color: #E8F0FE;\n",
              "      border: none;\n",
              "      border-radius: 50%;\n",
              "      cursor: pointer;\n",
              "      display: none;\n",
              "      fill: #1967D2;\n",
              "      height: 32px;\n",
              "      padding: 0 0 0 0;\n",
              "      width: 32px;\n",
              "    }\n",
              "\n",
              "    .colab-df-convert:hover {\n",
              "      background-color: #E2EBFA;\n",
              "      box-shadow: 0px 1px 2px rgba(60, 64, 67, 0.3), 0px 1px 3px 1px rgba(60, 64, 67, 0.15);\n",
              "      fill: #174EA6;\n",
              "    }\n",
              "\n",
              "    .colab-df-buttons div {\n",
              "      margin-bottom: 4px;\n",
              "    }\n",
              "\n",
              "    [theme=dark] .colab-df-convert {\n",
              "      background-color: #3B4455;\n",
              "      fill: #D2E3FC;\n",
              "    }\n",
              "\n",
              "    [theme=dark] .colab-df-convert:hover {\n",
              "      background-color: #434B5C;\n",
              "      box-shadow: 0px 1px 3px 1px rgba(0, 0, 0, 0.15);\n",
              "      filter: drop-shadow(0px 1px 2px rgba(0, 0, 0, 0.3));\n",
              "      fill: #FFFFFF;\n",
              "    }\n",
              "  </style>\n",
              "\n",
              "    <script>\n",
              "      const buttonEl =\n",
              "        document.querySelector('#df-58bef3c6-6fbb-432f-b386-7d3dc857ee79 button.colab-df-convert');\n",
              "      buttonEl.style.display =\n",
              "        google.colab.kernel.accessAllowed ? 'block' : 'none';\n",
              "\n",
              "      async function convertToInteractive(key) {\n",
              "        const element = document.querySelector('#df-58bef3c6-6fbb-432f-b386-7d3dc857ee79');\n",
              "        const dataTable =\n",
              "          await google.colab.kernel.invokeFunction('convertToInteractive',\n",
              "                                                    [key], {});\n",
              "        if (!dataTable) return;\n",
              "\n",
              "        const docLinkHtml = 'Like what you see? Visit the ' +\n",
              "          '<a target=\"_blank\" href=https://colab.research.google.com/notebooks/data_table.ipynb>data table notebook</a>'\n",
              "          + ' to learn more about interactive tables.';\n",
              "        element.innerHTML = '';\n",
              "        dataTable['output_type'] = 'display_data';\n",
              "        await google.colab.output.renderOutput(dataTable, element);\n",
              "        const docLink = document.createElement('div');\n",
              "        docLink.innerHTML = docLinkHtml;\n",
              "        element.appendChild(docLink);\n",
              "      }\n",
              "    </script>\n",
              "  </div>\n",
              "\n",
              "\n",
              "<div id=\"df-3927d7b0-a980-42f3-9380-849b20958be5\">\n",
              "  <button class=\"colab-df-quickchart\" onclick=\"quickchart('df-3927d7b0-a980-42f3-9380-849b20958be5')\"\n",
              "            title=\"Suggest charts\"\n",
              "            style=\"display:none;\">\n",
              "\n",
              "<svg xmlns=\"http://www.w3.org/2000/svg\" height=\"24px\"viewBox=\"0 0 24 24\"\n",
              "     width=\"24px\">\n",
              "    <g>\n",
              "        <path d=\"M19 3H5c-1.1 0-2 .9-2 2v14c0 1.1.9 2 2 2h14c1.1 0 2-.9 2-2V5c0-1.1-.9-2-2-2zM9 17H7v-7h2v7zm4 0h-2V7h2v10zm4 0h-2v-4h2v4z\"/>\n",
              "    </g>\n",
              "</svg>\n",
              "  </button>\n",
              "\n",
              "<style>\n",
              "  .colab-df-quickchart {\n",
              "      --bg-color: #E8F0FE;\n",
              "      --fill-color: #1967D2;\n",
              "      --hover-bg-color: #E2EBFA;\n",
              "      --hover-fill-color: #174EA6;\n",
              "      --disabled-fill-color: #AAA;\n",
              "      --disabled-bg-color: #DDD;\n",
              "  }\n",
              "\n",
              "  [theme=dark] .colab-df-quickchart {\n",
              "      --bg-color: #3B4455;\n",
              "      --fill-color: #D2E3FC;\n",
              "      --hover-bg-color: #434B5C;\n",
              "      --hover-fill-color: #FFFFFF;\n",
              "      --disabled-bg-color: #3B4455;\n",
              "      --disabled-fill-color: #666;\n",
              "  }\n",
              "\n",
              "  .colab-df-quickchart {\n",
              "    background-color: var(--bg-color);\n",
              "    border: none;\n",
              "    border-radius: 50%;\n",
              "    cursor: pointer;\n",
              "    display: none;\n",
              "    fill: var(--fill-color);\n",
              "    height: 32px;\n",
              "    padding: 0;\n",
              "    width: 32px;\n",
              "  }\n",
              "\n",
              "  .colab-df-quickchart:hover {\n",
              "    background-color: var(--hover-bg-color);\n",
              "    box-shadow: 0 1px 2px rgba(60, 64, 67, 0.3), 0 1px 3px 1px rgba(60, 64, 67, 0.15);\n",
              "    fill: var(--button-hover-fill-color);\n",
              "  }\n",
              "\n",
              "  .colab-df-quickchart-complete:disabled,\n",
              "  .colab-df-quickchart-complete:disabled:hover {\n",
              "    background-color: var(--disabled-bg-color);\n",
              "    fill: var(--disabled-fill-color);\n",
              "    box-shadow: none;\n",
              "  }\n",
              "\n",
              "  .colab-df-spinner {\n",
              "    border: 2px solid var(--fill-color);\n",
              "    border-color: transparent;\n",
              "    border-bottom-color: var(--fill-color);\n",
              "    animation:\n",
              "      spin 1s steps(1) infinite;\n",
              "  }\n",
              "\n",
              "  @keyframes spin {\n",
              "    0% {\n",
              "      border-color: transparent;\n",
              "      border-bottom-color: var(--fill-color);\n",
              "      border-left-color: var(--fill-color);\n",
              "    }\n",
              "    20% {\n",
              "      border-color: transparent;\n",
              "      border-left-color: var(--fill-color);\n",
              "      border-top-color: var(--fill-color);\n",
              "    }\n",
              "    30% {\n",
              "      border-color: transparent;\n",
              "      border-left-color: var(--fill-color);\n",
              "      border-top-color: var(--fill-color);\n",
              "      border-right-color: var(--fill-color);\n",
              "    }\n",
              "    40% {\n",
              "      border-color: transparent;\n",
              "      border-right-color: var(--fill-color);\n",
              "      border-top-color: var(--fill-color);\n",
              "    }\n",
              "    60% {\n",
              "      border-color: transparent;\n",
              "      border-right-color: var(--fill-color);\n",
              "    }\n",
              "    80% {\n",
              "      border-color: transparent;\n",
              "      border-right-color: var(--fill-color);\n",
              "      border-bottom-color: var(--fill-color);\n",
              "    }\n",
              "    90% {\n",
              "      border-color: transparent;\n",
              "      border-bottom-color: var(--fill-color);\n",
              "    }\n",
              "  }\n",
              "</style>\n",
              "\n",
              "  <script>\n",
              "    async function quickchart(key) {\n",
              "      const quickchartButtonEl =\n",
              "        document.querySelector('#' + key + ' button');\n",
              "      quickchartButtonEl.disabled = true;  // To prevent multiple clicks.\n",
              "      quickchartButtonEl.classList.add('colab-df-spinner');\n",
              "      try {\n",
              "        const charts = await google.colab.kernel.invokeFunction(\n",
              "            'suggestCharts', [key], {});\n",
              "      } catch (error) {\n",
              "        console.error('Error during call to suggestCharts:', error);\n",
              "      }\n",
              "      quickchartButtonEl.classList.remove('colab-df-spinner');\n",
              "      quickchartButtonEl.classList.add('colab-df-quickchart-complete');\n",
              "    }\n",
              "    (() => {\n",
              "      let quickchartButtonEl =\n",
              "        document.querySelector('#df-3927d7b0-a980-42f3-9380-849b20958be5 button');\n",
              "      quickchartButtonEl.style.display =\n",
              "        google.colab.kernel.accessAllowed ? 'block' : 'none';\n",
              "    })();\n",
              "  </script>\n",
              "</div>\n",
              "\n",
              "  <div id=\"id_a18e4667-f2af-4a99-9ae4-81f379897ff9\">\n",
              "    <style>\n",
              "      .colab-df-generate {\n",
              "        background-color: #E8F0FE;\n",
              "        border: none;\n",
              "        border-radius: 50%;\n",
              "        cursor: pointer;\n",
              "        display: none;\n",
              "        fill: #1967D2;\n",
              "        height: 32px;\n",
              "        padding: 0 0 0 0;\n",
              "        width: 32px;\n",
              "      }\n",
              "\n",
              "      .colab-df-generate:hover {\n",
              "        background-color: #E2EBFA;\n",
              "        box-shadow: 0px 1px 2px rgba(60, 64, 67, 0.3), 0px 1px 3px 1px rgba(60, 64, 67, 0.15);\n",
              "        fill: #174EA6;\n",
              "      }\n",
              "\n",
              "      [theme=dark] .colab-df-generate {\n",
              "        background-color: #3B4455;\n",
              "        fill: #D2E3FC;\n",
              "      }\n",
              "\n",
              "      [theme=dark] .colab-df-generate:hover {\n",
              "        background-color: #434B5C;\n",
              "        box-shadow: 0px 1px 3px 1px rgba(0, 0, 0, 0.15);\n",
              "        filter: drop-shadow(0px 1px 2px rgba(0, 0, 0, 0.3));\n",
              "        fill: #FFFFFF;\n",
              "      }\n",
              "    </style>\n",
              "    <button class=\"colab-df-generate\" onclick=\"generateWithVariable('X')\"\n",
              "            title=\"Generate code using this dataframe.\"\n",
              "            style=\"display:none;\">\n",
              "\n",
              "  <svg xmlns=\"http://www.w3.org/2000/svg\" height=\"24px\"viewBox=\"0 0 24 24\"\n",
              "       width=\"24px\">\n",
              "    <path d=\"M7,19H8.4L18.45,9,17,7.55,7,17.6ZM5,21V16.75L18.45,3.32a2,2,0,0,1,2.83,0l1.4,1.43a1.91,1.91,0,0,1,.58,1.4,1.91,1.91,0,0,1-.58,1.4L9.25,21ZM18.45,9,17,7.55Zm-12,3A5.31,5.31,0,0,0,4.9,8.1,5.31,5.31,0,0,0,1,6.5,5.31,5.31,0,0,0,4.9,4.9,5.31,5.31,0,0,0,6.5,1,5.31,5.31,0,0,0,8.1,4.9,5.31,5.31,0,0,0,12,6.5,5.46,5.46,0,0,0,6.5,12Z\"/>\n",
              "  </svg>\n",
              "    </button>\n",
              "    <script>\n",
              "      (() => {\n",
              "      const buttonEl =\n",
              "        document.querySelector('#id_a18e4667-f2af-4a99-9ae4-81f379897ff9 button.colab-df-generate');\n",
              "      buttonEl.style.display =\n",
              "        google.colab.kernel.accessAllowed ? 'block' : 'none';\n",
              "\n",
              "      buttonEl.onclick = () => {\n",
              "        google.colab.notebook.generateWithVariable('X');\n",
              "      }\n",
              "      })();\n",
              "    </script>\n",
              "  </div>\n",
              "\n",
              "    </div>\n",
              "  </div>\n"
            ],
            "application/vnd.google.colaboratory.intrinsic+json": {
              "type": "dataframe",
              "variable_name": "X"
            }
          },
          "metadata": {},
          "execution_count": 46
        }
      ]
    },
    {
      "cell_type": "markdown",
      "source": [
        "Splitting the dataset"
      ],
      "metadata": {
        "id": "TmtAqc7kLnKk"
      }
    },
    {
      "cell_type": "code",
      "source": [
        "X_train , X_test , y_train , y_test = train_test_split(X,y,test_size = 0.2 , random_state = 0)"
      ],
      "metadata": {
        "id": "9IjJgqzEJUe6"
      },
      "execution_count": 47,
      "outputs": []
    },
    {
      "cell_type": "markdown",
      "source": [
        "Scaling"
      ],
      "metadata": {
        "id": "e-1utCXmL_2w"
      }
    },
    {
      "cell_type": "code",
      "source": [
        "sc = StandardScaler()\n",
        "X_train = sc.fit_transform(X_train)\n",
        "X_test = sc.transform(X_test)"
      ],
      "metadata": {
        "id": "aEZhdjQVItlN"
      },
      "execution_count": 48,
      "outputs": []
    },
    {
      "cell_type": "markdown",
      "source": [
        "Logistic Regression"
      ],
      "metadata": {
        "id": "MLo0ZsNaH-Pu"
      }
    },
    {
      "cell_type": "code",
      "source": [
        "LR = LogisticRegression()\n",
        "LR.fit(X_train , y_train)\n",
        "y_pred = LR.predict(X_test)\n",
        "accuracies = cross_val_score(estimator=LR, X=X_train, y=y_train, cv=5)\n",
        "print(\" accuracy : {: .2f} %\".format(accuracies.mean() * 100))\n",
        "print(\" standard deviation : {: .2f} %\".format(accuracies.std() * 100))"
      ],
      "metadata": {
        "colab": {
          "base_uri": "https://localhost:8080/"
        },
        "id": "MdAbBtCJFosN",
        "outputId": "be4734f6-5c7a-4ffe-b1f5-61af666dc7f6"
      },
      "execution_count": 49,
      "outputs": [
        {
          "output_type": "stream",
          "name": "stdout",
          "text": [
            " accuracy :  77.61 %\n",
            " standard deviation :  0.21 %\n"
          ]
        }
      ]
    },
    {
      "cell_type": "markdown",
      "source": [
        "Decision Tree"
      ],
      "metadata": {
        "id": "eM-Z-qf_H2NL"
      }
    },
    {
      "cell_type": "code",
      "source": [
        "DT = DecisionTreeClassifier(criterion=\"entropy\")\n",
        "DT.fit(X_train , y_train)\n",
        "y_pred = DT.predict(X_test)\n",
        "accuracies = cross_val_score(estimator=DT, X=X_train, y=y_train, cv=5)\n",
        "print(\" accuracy : {: .2f} %\".format(accuracies.mean() * 100))\n",
        "print(\" standard deviation : {: .2f} %\".format(accuracies.std() * 100))"
      ],
      "metadata": {
        "colab": {
          "base_uri": "https://localhost:8080/"
        },
        "id": "f3yH1b39Gy9U",
        "outputId": "7759c123-b2e9-49c0-88f9-d347a96aacb6"
      },
      "execution_count": 50,
      "outputs": [
        {
          "output_type": "stream",
          "name": "stdout",
          "text": [
            " accuracy :  79.98 %\n",
            " standard deviation :  0.20 %\n"
          ]
        }
      ]
    },
    {
      "cell_type": "markdown",
      "source": [
        "Random Forest"
      ],
      "metadata": {
        "id": "Lo41316mQqHv"
      }
    },
    {
      "cell_type": "code",
      "source": [
        "RF = RandomForestClassifier(n_estimators=100)\n",
        "RF.fit(X_train, y_train)\n",
        "y_pred = RF.predict(X_test)\n",
        "accuracies = cross_val_score(estimator=RF, X=X_train, y=y_train, cv=5)\n",
        "print(\" accuracy : {: .2f} %\".format(accuracies.mean() * 100))\n",
        "print(\" standard deviation : {: .2f} %\".format(accuracies.std() * 100))"
      ],
      "metadata": {
        "id": "TWylgiT-TDlG"
      },
      "execution_count": null,
      "outputs": []
    },
    {
      "cell_type": "markdown",
      "source": [
        "KNN"
      ],
      "metadata": {
        "id": "Cs515MqRGIBs"
      }
    },
    {
      "cell_type": "code",
      "source": [
        "knn = KNeighborsClassifier()\n",
        "knn.fit(X_train, y_train)\n",
        "y_pred = knn.predict(X_test)\n",
        "accuracies = cross_val_score(estimator=knn, X=X_train, y=y_train, cv=5)\n",
        "print(\" accuracy : {: .2f} %\".format(accuracies.mean() * 100))\n",
        "print(\" standard deviation : {: .2f} %\".format(accuracies.std() * 100))"
      ],
      "metadata": {
        "id": "M8sghp8BGI0Y"
      },
      "execution_count": null,
      "outputs": []
    },
    {
      "cell_type": "markdown",
      "source": [
        "Naive Bayes"
      ],
      "metadata": {
        "id": "fQr5rxVpGt0p"
      }
    },
    {
      "cell_type": "code",
      "source": [
        "NB = GaussianNB()\n",
        "NB.fit(X_train , y_train)\n",
        "y_pred = NB.predict(X_test)\n",
        "accuracies = cross_val_score(estimator=NB, X=X_train, y=y_train, cv=5)\n",
        "print(\" accuracy : {: .2f} %\".format(accuracies.mean() * 100))\n",
        "print(\" standard deviation : {: .2f} %\".format(accuracies.std() * 100))"
      ],
      "metadata": {
        "id": "fwSvAQUIGu50"
      },
      "execution_count": null,
      "outputs": []
    },
    {
      "cell_type": "markdown",
      "source": [
        "XGBoost"
      ],
      "metadata": {
        "id": "CrQ2mzo6S_6Y"
      }
    },
    {
      "cell_type": "code",
      "source": [
        "classifier = XGBClassifier()\n",
        "classifier.fit(X_train, y_train)\n",
        "y_pred = classifier.predict(X_test)\n",
        "cm = confusion_matrix(y_test, y_pred)\n",
        "print(cm)\n",
        "accuracy_score(y_test, y_pred)\n",
        "accuracies = cross_val_score(estimator = classifier, X = X_train, y = y_train, cv = 10)\n",
        "print(\"Accuracy: {:.2f} %\".format(accuracies.mean()*100))\n",
        "print(\"Standard Deviation: {:.2f} %\".format(accuracies.std()*100))"
      ],
      "metadata": {
        "id": "N8S-h2QSQ57q"
      },
      "execution_count": null,
      "outputs": []
    },
    {
      "cell_type": "markdown",
      "source": [
        "Neural Network"
      ],
      "metadata": {
        "id": "ZaXm1191LQ2A"
      }
    },
    {
      "cell_type": "code",
      "source": [
        "model = Sequential()\n",
        "model.add(Dense(64, input_dim=X_train.shape[1], activation='relu'))\n",
        "model.add(Dense(64, activation='relu'))\n",
        "model.add(Dense(64, activation='relu'))\n",
        "model.add(Dense(64, activation='relu'))\n",
        "model.add(Dense(1, activation='sigmoid'))\n",
        "model.compile(loss='binary_crossentropy', optimizer='adam', metrics=['accuracy'])\n",
        "model.fit(X_train, y_train, epochs=10, batch_size=32)\n",
        "loss, accuracy = model.evaluate(X_test, y_test)\n",
        "print('Test accuracy:', accuracy)\n",
        "#model.save('model.h5')"
      ],
      "metadata": {
        "id": "oZmX5lB8K_li"
      },
      "execution_count": null,
      "outputs": []
    },
    {
      "cell_type": "code",
      "source": [
        "accuracy = accuracy_score(y_test, y_pred)\n",
        "print(\"Accuracy: {:.2f} %\".format(accuracy*100))\n",
        "\n",
        "# Calculate standard deviation\n",
        "std_dev = np.std(y_pred == y_test)\n",
        "print(\"Standard Deviation: {:.2f} %\".format(std_dev*100))"
      ],
      "metadata": {
        "id": "OYP-4NPBL4rp"
      },
      "execution_count": null,
      "outputs": []
    },
    {
      "cell_type": "markdown",
      "source": [
        "The Random Forest Classifier  is the best model as it achieves a 5-fold Cross Validation Accuracy of about 84.70 % with a Standard Deviation of only 0.21 %"
      ],
      "metadata": {
        "id": "2X3DP1SsICuC"
      }
    },
    {
      "cell_type": "markdown",
      "source": [
        "#Making Animations\n"
      ],
      "metadata": {
        "id": "xEJ0rrubAoPw"
      }
    },
    {
      "cell_type": "code",
      "source": [
        "# # Mean values for the animation\n",
        "# rng = df_month['number_of_reservations']\n",
        "# # Labels for bars\n",
        "# quarter = ['January', 'February', 'March', 'April', 'May', 'June', 'July', 'August', 'September', 'October', 'November', 'December']\n",
        "# # Initialize starting data for both bars\n",
        "# initial_data = [0,0,0,0 ,0,0,0,0,0,0,0,0]\n",
        "# # Create figure and axis\n",
        "# fig, ax = plt.subplots(figsize=(12, 6))\n",
        "# ax.invert_yaxis()\n",
        "# plt.xlabel('number of reservations')\n",
        "# plt.ylabel('month')\n",
        "# plt.title('Number of reservations per month')\n",
        "\n",
        "# # List of artists for animation\n",
        "# artists = []\n",
        "\n",
        "# # Bar colors\n",
        "# colors = ['tab:blue']*12\n",
        "# colors[7] = 'gold'\n",
        "\n",
        "# # Create the bar container for the animation\n",
        "# for i in range(100):\n",
        "#     # Interpolate data for smooth transition over 100 frames\n",
        "#     data = initial_data + (rng - initial_data) * (i / 100)\n",
        "#     # Create bar chart for the current frame\n",
        "#     container = ax.barh(quarter, data, color=colors, height=0.8)\n",
        "#     # Append the container (bars) to the artists list for the animation\n",
        "#     artists.append(container)\n",
        "# for _ in range(500):\n",
        "#     artists.append(container)\n",
        "\n",
        "# # Create and display the animation\n",
        "# ani = animation.ArtistAnimation(fig, artists, interval=18, repeat=False)\n",
        "# plt.show()\n",
        "\n",
        "# # Optionally save animation as a video\n",
        "# ani.save(\"Number_of_reservations_per_month.mp4\")"
      ],
      "metadata": {
        "id": "DaxlrflhTkRq"
      },
      "execution_count": null,
      "outputs": []
    },
    {
      "cell_type": "code",
      "source": [
        "# # Mean values for the animation\n",
        "# rng0 = df_previous_cancellations['is_canceled'].mean()\n",
        "# rng1 = df_no_cancellations['is_canceled'].mean()\n",
        "\n",
        "# # Labels for bars\n",
        "# quarter = ['YES', 'NO']\n",
        "\n",
        "# # Initialize starting data for both bars\n",
        "# initial_data = [0, 0]\n",
        "\n",
        "# # Create figure and axis\n",
        "# fig, ax = plt.subplots(figsize=(12, 6))\n",
        "# plt.xlabel('Previous Cancellations')\n",
        "# plt.ylabel('Cancellation Rate')\n",
        "# plt.title('Cancellation Rate by Previous Cancellations')\n",
        "\n",
        "# # List of artists for animation\n",
        "# artists = []\n",
        "\n",
        "# # Bar colors\n",
        "# colors = ['tab:red', 'tab:blue']\n",
        "\n",
        "# # Create the bar container for the animation\n",
        "# for i in range(100):\n",
        "#     # Interpolate data for smooth transition over 100 frames\n",
        "#     data = [initial_data[0] + (rng0 - initial_data[0]) * (i / 100),\n",
        "#             initial_data[1] + (rng1 - initial_data[1]) * (i / 100)]\n",
        "\n",
        "#     # Create bar chart for the current frame\n",
        "#     container = ax.bar(quarter, data, color=colors, width=0.6)\n",
        "\n",
        "#     # Append the container (bars) to the artists list for the animation\n",
        "#     artists.append(container)\n",
        "# for _ in range(500):\n",
        "#     artists.append(container)\n",
        "\n",
        "# # Create and display the animation\n",
        "# ani = animation.ArtistAnimation(fig, artists, interval=18, repeat=False)\n",
        "# plt.show()\n",
        "\n",
        "# # Optionally save animation as a video\n",
        "# ani.save(\"Cancellation_Rate_by_Previous_Cancellations.mp4\")\n"
      ],
      "metadata": {
        "id": "50OegvgMNR3-"
      },
      "execution_count": null,
      "outputs": []
    },
    {
      "cell_type": "code",
      "source": [
        "# # Mean values for the animation\n",
        "# rng0 = df_repeated['is_canceled'].mean()\n",
        "# rng1 = df_first['is_canceled'].mean()\n",
        "\n",
        "# # Labels for bars\n",
        "# quarter = ['YES', 'NO']\n",
        "\n",
        "# # Initialize starting data for both bars\n",
        "# initial_data = [0, 0]\n",
        "\n",
        "# # Create figure and axis\n",
        "# fig, ax = plt.subplots(figsize=(12, 6))\n",
        "# plt.xlabel('Is a Repeated Guest')\n",
        "# plt.ylabel('Cancellation Rate')\n",
        "# plt.title('Cancellation Rate by Repeated Guests Vs First Time Guests')\n",
        "\n",
        "# # List of artists for animation\n",
        "# artists = []\n",
        "\n",
        "# # Bar colors\n",
        "# colors = ['tab:blue', 'tab:red']\n",
        "\n",
        "# # Create the bar container for the animation\n",
        "# for i in range(100):\n",
        "#     # Interpolate data for smooth transition over 100 frames\n",
        "#     data = [initial_data[0] + (rng0 - initial_data[0]) * (i / 100),\n",
        "#             initial_data[1] + (rng1 - initial_data[1]) * (i / 100)]\n",
        "\n",
        "#     # Create bar chart for the current frame\n",
        "#     container = ax.bar(quarter, data, color=colors, width=0.6)\n",
        "\n",
        "#     # Append the container (bars) to the artists list for the animation\n",
        "#     artists.append(container)\n",
        "# for _ in range(500):\n",
        "#     artists.append(container)\n",
        "\n",
        "# # Create and display the animation\n",
        "# ani = animation.ArtistAnimation(fig, artists, interval=18, repeat=False)\n",
        "# plt.show()\n",
        "\n",
        "# # Optionally save animation as a video\n",
        "# ani.save(\"Cancellation_Rate_by_Repeated_Guests_Vs_First_Time_Guests.mp4\")"
      ],
      "metadata": {
        "id": "qX-GlaJBs4QI"
      },
      "execution_count": null,
      "outputs": []
    },
    {
      "cell_type": "code",
      "source": [
        "# quarter = ['Contract' , 'Group' , 'Transient' , 'Transient-Party']\n",
        "# rng = df_cust['is_canceled']\n",
        "# initial_data = np.array([0,0,0,0])\n",
        "# fig,ax = plt.subplots(figsize=(12,6))\n",
        "# plt.xlabel('Customer Type')\n",
        "# plt.ylabel('Cancellation Rate')\n",
        "# plt.title('Cancellation Rate by Customer Type')\n",
        "# artists = []\n",
        "# colors = ['tab:blue','tab:red','tab:green','tab:orange']\n",
        "# for i in range(100):\n",
        "#   data = initial_data + (rng - initial_data) * (i / 100)\n",
        "#   #data = np.minimum(initial_data + rng, rng)\n",
        "#   container = ax.bar(quarter,data,color = colors,width=0.6)\n",
        "#   artists.append(container)\n",
        "# for _ in range(500):\n",
        "#     artists.append(container)\n",
        "# ani = animation.ArtistAnimation(fig,artists,interval=18 , repeat=False)\n",
        "# plt.show()\n",
        "# ani.save(\"Cancellation Rate by Customer Type.mp4\")"
      ],
      "metadata": {
        "id": "m9ZcwUo1jY6c"
      },
      "execution_count": null,
      "outputs": []
    },
    {
      "cell_type": "code",
      "source": [
        "# quarter = ['Corprate' , 'Direct' , 'GDS' , 'TA/TO']\n",
        "# rng = df_dist['is_canceled']\n",
        "# initial_data = np.array([0,0,0,0])\n",
        "# fig,ax = plt.subplots(figsize=(12,6))\n",
        "# plt.xlabel('Distribution Channel')\n",
        "# plt.ylabel('Cancellation Rate')\n",
        "# plt.title('Cancellation Rate by Distribution Channel')\n",
        "# artists = []\n",
        "# colors = ['tab:blue','tab:red','tab:green','tab:orange']\n",
        "# for i in range(100):\n",
        "#   data = initial_data + (rng - initial_data) * (i / 100)\n",
        "#   #data = np.minimum(initial_data + rng, rng)\n",
        "#   container = ax.bar(quarter,data,color = colors ,width=0.6)\n",
        "#   artists.append(container)\n",
        "# for _ in range(500):\n",
        "#     artists.append(container)\n",
        "# ani = animation.ArtistAnimation(fig,artists,interval=18 , repeat=False)\n",
        "# plt.show()\n",
        "# ani.save(\"Cancellation_Rate_by_Distribution_Channel.mp4\")"
      ],
      "metadata": {
        "id": "dJ41T7ZkyXA0"
      },
      "execution_count": null,
      "outputs": []
    },
    {
      "cell_type": "code",
      "source": [
        "# quarter = ['No Deposit' , 'Non Refund Deposit Type' , 'Refundble']\n",
        "# rng = df_dep['is_canceled']\n",
        "# initial_data = np.array([0,0,0])\n",
        "# fig,ax = plt.subplots(figsize=(12,6))\n",
        "# plt.xlabel('Deposit Type')\n",
        "# plt.ylabel('Cancellation Rate')\n",
        "# plt.title('Cancellation Rate by Deposit Type')\n",
        "# artists = []\n",
        "# colors = ['tab:blue','tab:red','tab:blue']\n",
        "# for i in range(100):\n",
        "#   data = initial_data + (rng - initial_data) * (i / 100)\n",
        "#   container = ax.bar(quarter,data,color = colors,width=0.6)\n",
        "#   artists.append(container)\n",
        "# for _ in range(500):\n",
        "#     artists.append(container)\n",
        "# ani = animation.ArtistAnimation(fig,artists,interval=18 , repeat=False)\n",
        "# plt.show()\n",
        "# ani.save(\"Cancellation_Rate_by_Deposit_Type.mp4\")"
      ],
      "metadata": {
        "id": "yZQj9CptvOtp"
      },
      "execution_count": null,
      "outputs": []
    }
  ]
}